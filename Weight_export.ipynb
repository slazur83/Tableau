{
  "cells": [
    {
      "cell_type": "markdown",
      "metadata": {
        "id": "view-in-github",
        "colab_type": "text"
      },
      "source": [
        "<a href=\"https://colab.research.google.com/github/slazur83/Tableau/blob/main/Weight_export.ipynb\" target=\"_parent\"><img src=\"https://colab.research.google.com/assets/colab-badge.svg\" alt=\"Open In Colab\"/></a>"
      ]
    },
    {
      "cell_type": "code",
      "execution_count": 38,
      "metadata": {
        "id": "m3ZZtkYyf8kb"
      },
      "outputs": [],
      "source": [
        "import pandas as pd\n",
        "import glob\n",
        "import os\n",
        "import json\n",
        "import numpy as np\n",
        "from datetime import datetime\n",
        "from google.colab import userdata\n",
        "from google.colab import files"
      ]
    },
    {
      "cell_type": "code",
      "execution_count": 39,
      "metadata": {
        "id": "DhYwCaajgI9d"
      },
      "outputs": [],
      "source": [
        "config_file_path = \"/content/drive/MyDrive/Colab Notebooks/config.json\"\n",
        "\n",
        "with open(config_file_path, 'r') as config_file:\n",
        "    config = json.load(config_file)\n",
        "\n",
        "google_sheets_moja_waga = config['google_sheets_moja_waga']\n",
        "weight_output = config[\"weight_output\"]\n",
        "document_key = google_sheets_moja_waga.split('/')[-2]"
      ]
    },
    {
      "cell_type": "markdown",
      "source": [
        "## Google Sheets"
      ],
      "metadata": {
        "id": "UiLbVUQrhsvt"
      }
    },
    {
      "cell_type": "code",
      "source": [
        "# data from 2009\n",
        "google_sheets_moja_waga_2009 = f'https://docs.google.com/spreadsheets/d/{document_key}/export?format=csv&gid=2058414398'\n",
        "df2009 = pd.read_csv(google_sheets_moja_waga_2009, header=1)\n",
        "df2009['data'] = pd.to_datetime(df2009['data'], format='%d-%m-%Y').dt.strftime('%Y-%m-%d')"
      ],
      "metadata": {
        "id": "icKTSdByqtjb"
      },
      "execution_count": 40,
      "outputs": []
    },
    {
      "cell_type": "code",
      "source": [
        "# data from 2010\n",
        "google_sheets_moja_waga_2010 = f'https://docs.google.com/spreadsheets/d/{document_key}/export?format=csv&gid=880491358'\n",
        "df2010 = pd.read_csv(google_sheets_moja_waga_2010, header=1)\n",
        "df2010['data'] = pd.to_datetime(df2010['data'], format='%d-%m-%Y').dt.strftime('%Y-%m-%d')"
      ],
      "metadata": {
        "id": "RIevz_lNrh8h"
      },
      "execution_count": 41,
      "outputs": []
    },
    {
      "cell_type": "code",
      "source": [
        "# data from 2011\n",
        "google_sheets_moja_waga_2011 = f'https://docs.google.com/spreadsheets/d/{document_key}/export?format=csv&gid=472239933'\n",
        "df2011 = pd.read_csv(google_sheets_moja_waga_2011, header=1)\n",
        "df2011['data'] = pd.to_datetime(df2011['data'], format='%d-%m-%Y').dt.strftime('%Y-%m-%d')"
      ],
      "metadata": {
        "id": "M7Owawx9rr3c"
      },
      "execution_count": 42,
      "outputs": []
    },
    {
      "cell_type": "code",
      "source": [
        "# data from 2012\n",
        "google_sheets_moja_waga_2012 = f'https://docs.google.com/spreadsheets/d/{document_key}/export?format=csv&gid=1000106346'\n",
        "df2012 = pd.read_csv(google_sheets_moja_waga_2012, header=1)\n",
        "df2012['data'] = pd.to_datetime(df2012['data'], format='%d-%m-%Y').dt.strftime('%Y-%m-%d')"
      ],
      "metadata": {
        "id": "JwyGKi_1sD7d"
      },
      "execution_count": 43,
      "outputs": []
    },
    {
      "cell_type": "code",
      "source": [
        "# data from 2013\n",
        "google_sheets_moja_waga_2013 = f'https://docs.google.com/spreadsheets/d/{document_key}/export?format=csv&gid=829182274'\n",
        "df2013 = pd.read_csv(google_sheets_moja_waga_2013, header=1)\n",
        "df2013['data'] = pd.to_datetime(df2013['data'], format='%d-%m-%Y').dt.strftime('%Y-%m-%d')"
      ],
      "metadata": {
        "id": "B_yc1Bw4sRVF"
      },
      "execution_count": 44,
      "outputs": []
    },
    {
      "cell_type": "code",
      "source": [
        "# data from 2014\n",
        "google_sheets_moja_waga_2014 = f'https://docs.google.com/spreadsheets/d/{document_key}/export?format=csv&gid=445610479'\n",
        "df2014 = pd.read_csv(google_sheets_moja_waga_2014, header=1)\n",
        "df2014['data'] = pd.to_datetime(df2014['data'], format='%d-%m-%Y').dt.strftime('%Y-%m-%d')"
      ],
      "metadata": {
        "id": "1uF8jgfdsaZM"
      },
      "execution_count": 45,
      "outputs": []
    },
    {
      "cell_type": "code",
      "source": [
        "# data from 2016\n",
        "google_sheets_moja_waga_2016 = f'https://docs.google.com/spreadsheets/d/{document_key}/export?format=csv&gid=552331991'\n",
        "df2016 = pd.read_csv(google_sheets_moja_waga_2016, header=1)\n",
        "df2016['data'] = pd.to_datetime(df2016['data'], format='%m/%d/%Y').dt.strftime('%Y-%m-%d')\n",
        "df2016['waga [kg]'] = df2016['waga [kg]'].str.replace(' kg', '').str.strip()"
      ],
      "metadata": {
        "id": "6xVNyKtAssWk"
      },
      "execution_count": 46,
      "outputs": []
    },
    {
      "cell_type": "code",
      "source": [
        "# data from 2017\n",
        "google_sheets_moja_waga_2017 = f'https://docs.google.com/spreadsheets/d/{document_key}/export?format=csv&gid=2116961746'\n",
        "df2017 = pd.read_csv(google_sheets_moja_waga_2017, header=1)\n",
        "df2017['waga [kg]'] = df2017['waga [kg]'].str.replace(' kg', '')"
      ],
      "metadata": {
        "id": "GsQUHDG7g4pY"
      },
      "execution_count": 47,
      "outputs": []
    },
    {
      "cell_type": "code",
      "source": [
        "# data from 2018\n",
        "google_sheets_moja_waga_2018 = f'https://docs.google.com/spreadsheets/d/{document_key}/export?format=csv&gid=963518542'\n",
        "df2018 = pd.read_csv(google_sheets_moja_waga_2018, header=1)\n",
        "df2018['waga [kg]'] = df2018['waga [kg]'].str.replace(' kg', '')"
      ],
      "metadata": {
        "id": "cOqGnhVKxePH"
      },
      "execution_count": 48,
      "outputs": []
    },
    {
      "cell_type": "code",
      "source": [
        "# data from 2019\n",
        "google_sheets_moja_waga_2019 = f'https://docs.google.com/spreadsheets/d/{document_key}/export?format=csv&gid=538403932'\n",
        "df2019 = pd.read_csv(google_sheets_moja_waga_2019, header=1)\n",
        "df2019['waga [kg]'] = df2019['waga [kg]'].str.replace(' kg', '')"
      ],
      "metadata": {
        "id": "3ldB1kFj1R_F"
      },
      "execution_count": 49,
      "outputs": []
    },
    {
      "cell_type": "code",
      "source": [
        "# data from 2020\n",
        "google_sheets_moja_waga_2020 = f'https://docs.google.com/spreadsheets/d/{document_key}/export?format=csv&gid=0'\n",
        "df2020 = pd.read_csv(google_sheets_moja_waga_2020, header=1)"
      ],
      "metadata": {
        "id": "n83W_Twug5fv"
      },
      "execution_count": 50,
      "outputs": []
    },
    {
      "cell_type": "code",
      "source": [
        "df = pd.concat([df2009, df2010, df2011, df2012, df2013, df2014, df2016, df2017, df2018, df2019, df2020], ignore_index=True)"
      ],
      "metadata": {
        "id": "FdIuC80lg-Fd"
      },
      "execution_count": 51,
      "outputs": []
    },
    {
      "cell_type": "code",
      "source": [
        "df = df.iloc[1:, 1:]\n",
        "df = df.rename(columns=dict(zip(df.columns, ['Date', 'Time', 'Weight'])))\n",
        "df.replace('-', np.nan, inplace=True)"
      ],
      "metadata": {
        "id": "o9I6Tkd4g-3_"
      },
      "execution_count": 52,
      "outputs": []
    },
    {
      "cell_type": "code",
      "source": [
        "df['Weight'] = df['Weight'].str.replace(',', '.').astype(float)"
      ],
      "metadata": {
        "id": "1oHts8n9vbS7"
      },
      "execution_count": 53,
      "outputs": []
    },
    {
      "cell_type": "code",
      "source": [
        "df = df.dropna(how='all')\n",
        "duplicated_rows = df.duplicated(keep=False)\n",
        "\n",
        "if duplicated_rows.sum() > 0:\n",
        "    print(f\"Found {duplicated_rows.sum()} duplicated rows.\")\n",
        "    duplicated_sorted = df[duplicated_rows].sort_values(by='Date')\n",
        "    df = df.drop_duplicates()\n",
        "    print(f\"Removed duplicates.\")"
      ],
      "metadata": {
        "id": "ezDTaoj-hD1T"
      },
      "execution_count": 54,
      "outputs": []
    },
    {
      "cell_type": "code",
      "source": [
        "df_google_sheets = df.sort_values(by='Date')"
      ],
      "metadata": {
        "id": "OL8AdVPnhe8H"
      },
      "execution_count": 55,
      "outputs": []
    },
    {
      "cell_type": "code",
      "source": [
        "print(f'Number of entries: {len(df_google_sheets)}')\n",
        "print(f'Date of first entry: {df_google_sheets[\"Date\"].iloc[0]}')\n",
        "print(f'Date of last entry: {df_google_sheets[\"Date\"].iloc[-1]}')"
      ],
      "metadata": {
        "colab": {
          "base_uri": "https://localhost:8080/"
        },
        "id": "Du1dLyGGhiVI",
        "outputId": "c612209e-8922-498f-c60d-d862b6131403"
      },
      "execution_count": 56,
      "outputs": [
        {
          "output_type": "stream",
          "name": "stdout",
          "text": [
            "Number of entries: 368\n",
            "Date of first entry: 2009-08-17\n",
            "Date of last entry: 2020-11-29\n"
          ]
        }
      ]
    },
    {
      "cell_type": "markdown",
      "source": [
        "## Garmin Connect"
      ],
      "metadata": {
        "id": "8YVVArHmhzCn"
      }
    },
    {
      "cell_type": "code",
      "source": [
        "garmin_connect_masa_ciala = config['garmin_connect_masa_ciala']\n",
        "file_paths = glob.glob(garmin_connect_masa_ciala)\n",
        "\n",
        "dfs = []\n",
        "for path in file_paths:\n",
        "    df = pd.read_csv(path)\n",
        "    dfs.append(df)\n",
        "\n",
        "df = pd.concat(dfs, ignore_index=True)\n",
        "df = df.iloc[:, :2]"
      ],
      "metadata": {
        "id": "7c1aGh6Hhypn"
      },
      "execution_count": 57,
      "outputs": []
    },
    {
      "cell_type": "code",
      "source": [
        "data_values = df.values.tolist()\n",
        "merged_data = [data_values[i] + data_values[i+1] for i in range(0, len(data_values)-1)]\n",
        "df = pd.DataFrame(merged_data, columns=list(df.columns)*2)\n",
        "\n",
        "index = df.columns.tolist().index('Czas', 1)\n",
        "df.columns.values[index] = 'Czas2'\n",
        "df = df[~df['Czas'].str.contains(':')]\n",
        "\n",
        "df = df.iloc[:, [0, 2, 3]]"
      ],
      "metadata": {
        "id": "EYeB5gS3h8D0"
      },
      "execution_count": 58,
      "outputs": []
    },
    {
      "cell_type": "code",
      "source": [
        "def replace_month(date_str):\n",
        "    months_pl_to_en = {\n",
        "        'Sty': 'Jan', 'Lut': 'Feb', 'Mar': 'Mar', 'Kwi': 'Apr',\n",
        "        'Maj': 'May', 'Cze': 'Jun', 'Lip': 'Jul', 'Sie': 'Aug',\n",
        "        'Wrz': 'Sep', 'Paź': 'Oct', 'Lis': 'Nov', 'Gru': 'Dec'\n",
        "    }\n",
        "    for pl, en in months_pl_to_en.items():\n",
        "        date_str = date_str.replace(pl, en)\n",
        "    return date_str.strip()\n",
        "\n",
        "df_copy = df.copy()\n",
        "df_copy.loc[:, 'Czas'] = df_copy['Czas'].apply(replace_month)\n",
        "df_copy.loc[:, 'Czas'] = pd.to_datetime(df_copy['Czas'], format=\"%d %b %Y\").dt.strftime('%Y-%m-%d')\n",
        "df = df_copy"
      ],
      "metadata": {
        "id": "BmBMu2Dmh-7j"
      },
      "execution_count": 59,
      "outputs": []
    },
    {
      "cell_type": "code",
      "source": [
        "df = df.rename(columns={'Czas': 'Date', 'Czas2' : 'Time', 'Ciężar': 'Weight'})\n",
        "df = df.reindex(columns=['Date', 'Time', 'Weight'])\n",
        "df['Weight'] = df['Weight'].str.replace(' kg', '').astype(float)"
      ],
      "metadata": {
        "id": "awPHp0JAiBwz"
      },
      "execution_count": 60,
      "outputs": []
    },
    {
      "cell_type": "code",
      "source": [
        "df = df.dropna(how='all')\n",
        "duplicated_rows = df.duplicated(keep=False)\n",
        "\n",
        "if duplicated_rows.sum() > 0:\n",
        "    print(f\"Found {duplicated_rows.sum()} duplicated rows.\")\n",
        "    duplicated_sorted = df[duplicated_rows].sort_values(by='Date')\n",
        "    df = df.drop_duplicates()\n",
        "    print(f\"Removed duplicates.\")"
      ],
      "metadata": {
        "colab": {
          "base_uri": "https://localhost:8080/"
        },
        "id": "XctXRInSiEbv",
        "outputId": "d1b8fee3-5419-445f-df83-58a02e046944"
      },
      "execution_count": 61,
      "outputs": [
        {
          "output_type": "stream",
          "name": "stdout",
          "text": [
            "Found 12 duplicated rows.\n",
            "Removed duplicates.\n"
          ]
        }
      ]
    },
    {
      "cell_type": "code",
      "source": [
        "df_garmin_connect = df.sort_values(by=['Date', 'Time'], ascending=True)"
      ],
      "metadata": {
        "id": "WEsODYcTiXf8"
      },
      "execution_count": 62,
      "outputs": []
    },
    {
      "cell_type": "code",
      "source": [
        "print(f'Number of entries: {len(df_garmin_connect)}')\n",
        "print(f'Date of first entry: {df_garmin_connect[\"Date\"].iloc[0]}')\n",
        "print(f'Date of last entry: {df_garmin_connect[\"Date\"].iloc[-1]}')"
      ],
      "metadata": {
        "colab": {
          "base_uri": "https://localhost:8080/"
        },
        "id": "y64jBB-3iaVZ",
        "outputId": "aa348238-f97e-4d20-d9cc-3a3a398552ca"
      },
      "execution_count": 63,
      "outputs": [
        {
          "output_type": "stream",
          "name": "stdout",
          "text": [
            "Number of entries: 407\n",
            "Date of first entry: 2020-12-06\n",
            "Date of last entry: 2024-04-28\n"
          ]
        }
      ]
    },
    {
      "cell_type": "markdown",
      "source": [
        "## Data Consolidation"
      ],
      "metadata": {
        "id": "1D_WzL7SidML"
      }
    },
    {
      "cell_type": "code",
      "source": [
        "df_merged = pd.concat([df_google_sheets, df_garmin_connect], ignore_index=True)"
      ],
      "metadata": {
        "id": "-Z49NImzifUo"
      },
      "execution_count": 64,
      "outputs": []
    },
    {
      "cell_type": "code",
      "source": [
        "df_merged = df_merged.dropna(how='all')\n",
        "duplicated_rows = df_merged.duplicated(keep=False)\n",
        "\n",
        "if duplicated_rows.sum() > 0:\n",
        "    print(f\"Found {duplicated_rows.sum()} duplicated rows.\")\n",
        "    duplicated_sorted = df[duplicated_rows].sort_values(by='Date')\n",
        "    df = df.drop_duplicates()\n",
        "    print(f\"Removed duplicates.\")"
      ],
      "metadata": {
        "id": "PWyzhT43ikce"
      },
      "execution_count": 65,
      "outputs": []
    },
    {
      "cell_type": "code",
      "source": [
        "df_merged = df_merged[df_merged['Weight'].notna()]"
      ],
      "metadata": {
        "id": "WFAcwuc01vWD"
      },
      "execution_count": 66,
      "outputs": []
    },
    {
      "cell_type": "code",
      "source": [
        "df['Date'] = pd.to_datetime(df['Date'])\n",
        "df['Time'] = pd.to_datetime(df['Time'], format='%H:%M').dt.time\n",
        "df['Weight'] = df['Weight'].astype(str)\n",
        "df['Weight'] = df['Weight'].str.replace(',', '').str.rstrip('0').str.rstrip('.')\n",
        "df['Weight'] = df['Weight'].astype(float)"
      ],
      "metadata": {
        "id": "sWOJJECYioXJ"
      },
      "execution_count": 67,
      "outputs": []
    },
    {
      "cell_type": "code",
      "source": [
        "print(f'Number of entries: {len(df_merged)}')\n",
        "print(f'Date of first entry: {df_merged[\"Date\"].iloc[0]}')\n",
        "print(f'Date of last entry: {df_merged[\"Date\"].iloc[-1]}')"
      ],
      "metadata": {
        "colab": {
          "base_uri": "https://localhost:8080/"
        },
        "id": "eJTWT2fIiofk",
        "outputId": "8667f323-23f6-4d17-eeb1-82a07ad0743d"
      },
      "execution_count": 68,
      "outputs": [
        {
          "output_type": "stream",
          "name": "stdout",
          "text": [
            "Number of entries: 767\n",
            "Date of first entry: 2009-08-17\n",
            "Date of last entry: 2024-04-28\n"
          ]
        }
      ]
    },
    {
      "cell_type": "markdown",
      "source": [
        "## Data export"
      ],
      "metadata": {
        "id": "qZxslywPisvY"
      }
    },
    {
      "cell_type": "code",
      "source": [
        "df_merged.to_csv(weight_output, index=False)\n",
        "print(\"The file has been successfully saved.\")"
      ],
      "metadata": {
        "id": "evF3y2uFiv_Q",
        "colab": {
          "base_uri": "https://localhost:8080/"
        },
        "outputId": "9dc7971e-add2-4c7c-c18f-fba59a78a737"
      },
      "execution_count": 69,
      "outputs": [
        {
          "output_type": "stream",
          "name": "stdout",
          "text": [
            "The file has been successfully saved.\n"
          ]
        }
      ]
    }
  ],
  "metadata": {
    "colab": {
      "provenance": [],
      "mount_file_id": "1dgOXBfKxk5-FdLTI1T_WF5Ryp1Djymyq",
      "authorship_tag": "ABX9TyOyJxsoJP84I/AOPH7p19jn",
      "include_colab_link": true
    },
    "kernelspec": {
      "display_name": "Python 3",
      "name": "python3"
    },
    "language_info": {
      "name": "python"
    }
  },
  "nbformat": 4,
  "nbformat_minor": 0
}