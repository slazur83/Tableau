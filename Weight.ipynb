{
  "nbformat": 4,
  "nbformat_minor": 0,
  "metadata": {
    "colab": {
      "provenance": [],
      "mount_file_id": "1fGFDoJ7x_xWwxQygcQ8dCxMYLbT7fNlc",
      "authorship_tag": "ABX9TyMKAbfT1/PJxPqp8VdJYTO7"
    },
    "kernelspec": {
      "name": "python3",
      "display_name": "Python 3"
    },
    "language_info": {
      "name": "python"
    }
  },
  "cells": [
    {
      "cell_type": "markdown",
      "source": [
        "**Garmin Connect**"
      ],
      "metadata": {
        "id": "p59P79JT39z7"
      }
    },
    {
      "cell_type": "code",
      "execution_count": 40,
      "metadata": {
        "id": "Ezt_LhmaIgwX"
      },
      "outputs": [],
      "source": [
        "import pandas as pd\n",
        "import glob\n",
        "from datetime import datetime"
      ]
    },
    {
      "cell_type": "code",
      "source": [
        "dfs = []\n",
        "for path in file_paths:\n",
        "    df = pd.read_csv(path)\n",
        "    dfs.append(df)\n",
        "\n",
        "df = pd.concat(dfs, ignore_index=True)\n",
        "df.head()"
      ],
      "metadata": {
        "id": "VH44cFUVx625"
      },
      "execution_count": null,
      "outputs": []
    },
    {
      "cell_type": "code",
      "source": [
        "# Selecting only the first 2 columns of the DataFrame:\n",
        "\n",
        "df = df.iloc[:, :4]\n",
        "df.head(10)"
      ],
      "metadata": {
        "id": "lhjWPEB1JokQ"
      },
      "execution_count": null,
      "outputs": []
    },
    {
      "cell_type": "code",
      "source": [
        "# Converting the DataFrame to a list, merging consecutive rows into a single row, and converting the merged data back to a DataFrame\n",
        "\n",
        "data_values = df.values.tolist()\n",
        "merged_data = [data_values[i] + data_values[i+1] for i in range(0, len(data_values)-1)]\n",
        "df_merged = pd.DataFrame(merged_data, columns=list(df.columns)*2)\n",
        "display(df_merged)"
      ],
      "metadata": {
        "id": "A7Mw9QtUPF5_"
      },
      "execution_count": null,
      "outputs": []
    },
    {
      "cell_type": "code",
      "source": [
        "# Renaming the \"Czas\" column to \"Czas2\", removing rows that contain a colon in the \"Czas\" column, and selecting only 5 columns of the DataFrame\n",
        "\n",
        "index = df_merged.columns.tolist().index('Czas', 1)\n",
        "df_merged.columns.values[index] = 'Czas2'\n",
        "df_merged = df_merged[~df_merged['Czas'].str.contains(':')]\n",
        "df_merged = df_merged.iloc[:, [0,4,5,6,7]]\n",
        "display(df_merged)"
      ],
      "metadata": {
        "id": "g0yVuCZBTZay"
      },
      "execution_count": null,
      "outputs": []
    },
    {
      "cell_type": "code",
      "source": [
        "def replace_month(date_str):\n",
        "    months_pl_to_en = {\n",
        "        'Sty': 'Jan', 'Lut': 'Feb', 'Mar': 'Mar', 'Kwi': 'Apr',\n",
        "        'Maj': 'May', 'Cze': 'Jun', 'Lip': 'Jul', 'Sie': 'Aug',\n",
        "        'Wrz': 'Sep', 'Paź': 'Oct', 'Lis': 'Nov', 'Gru': 'Dec'\n",
        "    }\n",
        "    for pl, en in months_pl_to_en.items():\n",
        "        date_str = date_str.replace(pl, en)\n",
        "    return date_str.strip()\n",
        "\n",
        "df_merged['Czas'] = df_merged['Czas'].apply(replace_month)\n",
        "df_merged['Czas'] = pd.to_datetime(df_merged['Czas'], format=\"%d %b %Y\").dt.strftime('%Y-%m-%d')\n",
        "\n",
        "df_merged"
      ],
      "metadata": {
        "id": "Vq34eAIv0TgW"
      },
      "execution_count": null,
      "outputs": []
    },
    {
      "cell_type": "code",
      "source": [
        "df_merged = df_merged.rename(columns={'Czas': 'Date', 'Czas2' : 'Time', 'Ciężar': 'Weight'})\n",
        "df_merged = df_merged.reindex(columns=['Date', 'Time', 'Weight'])\n",
        "df_merged['Weight'] = df_merged['Weight'].str.replace(' kg', '').astype(float)\n",
        "display(df_merged)"
      ],
      "metadata": {
        "id": "j2I8wyQgHWlQ"
      },
      "execution_count": null,
      "outputs": []
    },
    {
      "cell_type": "code",
      "source": [
        "duplicated_rows = df_merged.duplicated()\n",
        "\n",
        "print(f\"Number of duplicated rows: {duplicated_rows.sum()}\")\n",
        "\n",
        "if duplicated_rows.sum() > 0:\n",
        "  df_merged = df_merged.drop_duplicates()\n",
        "  print (f\"Deleted {duplicated_rows.sum()} rows\")\n",
        "\n",
        "df_merged = df_merged.sort_values(by=['Date', 'Time'], ascending=True)\n",
        "\n",
        "display(df_merged)"
      ],
      "metadata": {
        "id": "dT9xD0GjyYOC"
      },
      "execution_count": null,
      "outputs": []
    },
    {
      "cell_type": "code",
      "source": [
        "print(f'Number of entries: {len(df_merged)}')\n",
        "print(f'Date of first entry: {df_merged[\"Date\"].iloc[0]}')\n",
        "print(f'Date of last entry: {df_merged[\"Date\"].iloc[-1]}')"
      ],
      "metadata": {
        "id": "NoYNQb3IkYJz",
        "colab": {
          "base_uri": "https://localhost:8080/"
        },
        "outputId": "54a8225f-9253-45f5-dd39-e688427473cc"
      },
      "execution_count": 50,
      "outputs": [
        {
          "output_type": "stream",
          "name": "stdout",
          "text": [
            "Number of entries: 378\n",
            "Date of first entry: 2020-12-06\n",
            "Date of last entry: 2024-03-01\n"
          ]
        }
      ]
    },
    {
      "cell_type": "code",
      "source": [
        "# Export the merged dataframe to the weight.csv file\n",
        "df_merged.to_csv('/content/drive/MyDrive/Colab Notebooks/Tableau/Outputs/weight.csv', index=False)"
      ],
      "metadata": {
        "id": "BqCKTHVMipPP"
      },
      "execution_count": null,
      "outputs": []
    }
  ]
}