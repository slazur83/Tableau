{
  "nbformat": 4,
  "nbformat_minor": 0,
  "metadata": {
    "colab": {
      "provenance": [],
      "mount_file_id": "1RTlaGtxB2tVBNroChs2ZYfZBlbNRNb3M",
      "authorship_tag": "ABX9TyOCQwV58mCyV0ApTJiukBzs",
      "include_colab_link": true
    },
    "kernelspec": {
      "name": "python3",
      "display_name": "Python 3"
    },
    "language_info": {
      "name": "python"
    }
  },
  "cells": [
    {
      "cell_type": "markdown",
      "metadata": {
        "id": "view-in-github",
        "colab_type": "text"
      },
      "source": [
        "<a href=\"https://colab.research.google.com/github/slazur83/Tableau/blob/main/merged.ipynb\" target=\"_parent\"><img src=\"https://colab.research.google.com/assets/colab-badge.svg\" alt=\"Open In Colab\"/></a>"
      ]
    },
    {
      "cell_type": "code",
      "execution_count": 12,
      "metadata": {
        "id": "L_Jkc34RUu_i",
        "colab": {
          "base_uri": "https://localhost:8080/"
        },
        "outputId": "a8043463-b1e0-4a0e-99cc-2616351089b0"
      },
      "outputs": [
        {
          "output_type": "stream",
          "name": "stdout",
          "text": [
            "392 duplicates removed.\n",
            "CSV files have been merged, sorted by date, and saved as 'merged.csv'.\n"
          ]
        }
      ],
      "source": [
        "import pandas as pd\n",
        "import os\n",
        "\n",
        "folder_path = \"/content/drive/MyDrive/Colab Notebooks/Tableau/Outputs/\"\n",
        "output_file_path = f'{folder_path}/merged.csv'\n",
        "\n",
        "csv_files = [file for file in os.listdir(folder_path) if file.startswith(\"Steps\") and file.endswith(\".csv\")]\n",
        "data_frames = []\n",
        "\n",
        "for csv_file in csv_files:\n",
        "    file_path = os.path.join(folder_path, csv_file)\n",
        "    data_frame = pd.read_csv(file_path)\n",
        "    data_frames.append(data_frame)\n",
        "\n",
        "merged = pd.concat(data_frames, ignore_index=True)\n",
        "merged['New_date'] = pd.to_datetime(merged['New_date'])\n",
        "merged = merged.sort_values(by='New_date')\n",
        "\n",
        "# Checking for duplicated dates\n",
        "duplicates = merged[merged.duplicated(['New_date'], keep=False)]\n",
        "\n",
        "if duplicates.empty:\n",
        "    print(\"There are no duplicates.\")\n",
        "else:\n",
        "    # Drop duplicates based on the 'New_date' column, keeping the first occurrence\n",
        "    merged = merged.drop_duplicates(subset=['New_date'], keep='first').reset_index(drop=True)\n",
        "    print(f\"{len(duplicates)} duplicates removed.\")\n",
        "\n",
        "# Remove the existing 'Unnamed: 0' column if it already exists\n",
        "if 'Unnamed: 0' in merged.columns:\n",
        "    merged.drop('Unnamed: 0', axis=1, inplace=True)\n",
        "\n",
        "# Add a new column as a counter starting from 0\n",
        "merged.insert(0, 'Unnamed: 0', range(len(merged)))\n",
        "\n",
        "# Reset the index to create a new counter starting from 0\n",
        "merged.reset_index(drop=True, inplace=True)\n",
        "\n",
        "# Save the sorted and updated DataFrame to a CSV file\n",
        "merged.to_csv(output_file_path, index=False)\n",
        "\n",
        "print(\"CSV files have been merged, sorted by date, and saved as 'merged.csv'.\")\n"
      ]
    }
  ]
}