{
  "nbformat": 4,
  "nbformat_minor": 0,
  "metadata": {
    "colab": {
      "provenance": [],
      "mount_file_id": "1oLHnYoN_DYMz6dIylcN1lhdKGB6cBVxN",
      "authorship_tag": "ABX9TyPnKlpLdlwWjfID5UPi0JS4",
      "include_colab_link": true
    },
    "kernelspec": {
      "name": "python3",
      "display_name": "Python 3"
    },
    "language_info": {
      "name": "python"
    }
  },
  "cells": [
    {
      "cell_type": "markdown",
      "metadata": {
        "id": "view-in-github",
        "colab_type": "text"
      },
      "source": [
        "<a href=\"https://colab.research.google.com/github/slazur83/Tableau/blob/main/Reading_export.ipynb\" target=\"_parent\"><img src=\"https://colab.research.google.com/assets/colab-badge.svg\" alt=\"Open In Colab\"/></a>"
      ]
    },
    {
      "cell_type": "code",
      "source": [
        "import pandas as pd\n",
        "import json"
      ],
      "metadata": {
        "id": "p_SIZm8mFRyq"
      },
      "execution_count": 96,
      "outputs": []
    },
    {
      "cell_type": "code",
      "source": [
        "config_file_path = \"/content/drive/MyDrive/Colab Notebooks/config.json\"\n",
        "\n",
        "with open(config_file_path, 'r') as config_file:\n",
        "    config = json.load(config_file)\n",
        "\n",
        "lc_books_output = config['lc_books_output']"
      ],
      "metadata": {
        "id": "7newXC7FFXQs"
      },
      "execution_count": 97,
      "outputs": []
    },
    {
      "cell_type": "code",
      "execution_count": 98,
      "metadata": {
        "id": "TjyQArLEEtbP"
      },
      "outputs": [],
      "source": [
        "uploaded_filename = 'lc_books.json'\n",
        "lc_books = f'/content/drive/MyDrive/Dane z aplikacji/Lubimyczytac/{uploaded_filename}'\n",
        "df = pd.read_json(lc_books)"
      ]
    },
    {
      "cell_type": "code",
      "source": [
        "df = df.rename(columns={'name': 'title', 'href': 'link', 'shelves': 'type'})\n",
        "desired_column_order = ['read_date', 'type', 'title', 'author', 'rate', 'average_rate', 'link']\n",
        "df = df.reindex(columns=desired_column_order)\n",
        "df['type'] = df['type'].apply(lambda x: 'Audiobook' if 'Audiobooki' in x else 'Book')"
      ],
      "metadata": {
        "id": "YPojWEi1Friw"
      },
      "execution_count": 99,
      "outputs": []
    },
    {
      "cell_type": "code",
      "source": [
        "df = df[df['read_date'] != '']"
      ],
      "metadata": {
        "id": "8zCEME2OPqbv"
      },
      "execution_count": 100,
      "outputs": []
    },
    {
      "cell_type": "code",
      "source": [
        "df.to_csv(lc_books_output, index=False)"
      ],
      "metadata": {
        "id": "ci-trvOLONpT"
      },
      "execution_count": 101,
      "outputs": []
    },
    {
      "cell_type": "code",
      "source": [
        "len(df)"
      ],
      "metadata": {
        "colab": {
          "base_uri": "https://localhost:8080/"
        },
        "id": "qpRHoweZR3X2",
        "outputId": "401e3388-e97c-415e-b785-7a646d383f64"
      },
      "execution_count": 102,
      "outputs": [
        {
          "output_type": "execute_result",
          "data": {
            "text/plain": [
              "247"
            ]
          },
          "metadata": {},
          "execution_count": 102
        }
      ]
    }
  ]
}