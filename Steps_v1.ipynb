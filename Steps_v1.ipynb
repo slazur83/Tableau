{
  "cells": [
    {
      "cell_type": "markdown",
      "metadata": {
        "id": "gMAdL03tnN6a"
      },
      "source": [
        "**Data import**"
      ]
    },
    {
      "cell_type": "code",
      "execution_count": null,
      "metadata": {
        "id": "GY5IvlcVYfR3"
      },
      "outputs": [],
      "source": [
        "# Import libraries\n",
        "import pandas as pd\n",
        "import numpy as np\n",
        "import seaborn as sns\n",
        "import matplotlib as mpl\n",
        "import datetime as dt\n",
        "import glob\n",
        "import os\n",
        "import calendar\n",
        "import datetime\n",
        "\n",
        "%matplotlib inline"
      ]
    },
    {
      "cell_type": "code",
      "source": [
        "year = '2023'"
      ],
      "metadata": {
        "id": "NDawQXWopLBu"
      },
      "execution_count": null,
      "outputs": []
    },
    {
      "cell_type": "code",
      "execution_count": null,
      "metadata": {
        "id": "GAdnXOkjv3n1"
      },
      "outputs": [],
      "source": [
        "# Importing and merging the files\n",
        "joined_files = os.path.join(f\"//content/drive/MyDrive/Dane z aplikacji/Garmin Connect/Kroki/Data_{year}\", \"*.csv\")"
      ]
    },
    {
      "cell_type": "code",
      "execution_count": null,
      "metadata": {
        "id": "Hcu2JdPNuO-h"
      },
      "outputs": [],
      "source": [
        "# A list of all joined files\n",
        "joined_list = glob.glob(joined_files)\n",
        "\n",
        "# First version of the dataframe\n",
        "steps = pd.concat(map(pd.read_csv, joined_list), ignore_index=True)\n",
        "\n",
        "#Variables\n",
        "new_order = ['January', 'February', 'March', 'April', 'May', 'June', 'July', 'August', 'September', 'October', 'November', 'December']"
      ]
    },
    {
      "cell_type": "markdown",
      "metadata": {
        "id": "6jOkRp7RnXiO"
      },
      "source": [
        "**Data check**"
      ]
    },
    {
      "cell_type": "code",
      "execution_count": null,
      "metadata": {
        "id": "lxsuPRl0nz8A"
      },
      "outputs": [],
      "source": [
        "# Checking the dimensions of the dataframe\n",
        "steps.shape"
      ]
    },
    {
      "cell_type": "code",
      "execution_count": null,
      "metadata": {
        "id": "RLrTEXqhq902"
      },
      "outputs": [],
      "source": [
        "# Checking the types of data\n",
        "steps.dtypes"
      ]
    },
    {
      "cell_type": "code",
      "execution_count": null,
      "metadata": {
        "id": "tTuxcqJ4b3qd"
      },
      "outputs": [],
      "source": [
        "# Samples from dataframe\n",
        "steps.sample(5)"
      ]
    },
    {
      "cell_type": "code",
      "source": [
        "steps.head(10)"
      ],
      "metadata": {
        "id": "1b-cqplcAE2j"
      },
      "execution_count": null,
      "outputs": []
    },
    {
      "cell_type": "code",
      "source": [
        "# Deleting rows from previous year\n",
        "n = len(steps[steps.iloc[:, 0].str.endswith('gru')])\n",
        "steps = steps.iloc[n:]\n",
        "print(f\"Deleted {n} rows.\")"
      ],
      "metadata": {
        "id": "iZlBC_WzApaY"
      },
      "execution_count": null,
      "outputs": []
    },
    {
      "cell_type": "markdown",
      "metadata": {
        "id": "4rcUF8uYrsCX"
      },
      "source": [
        "**Data cleaning**"
      ]
    },
    {
      "cell_type": "code",
      "execution_count": null,
      "metadata": {
        "id": "u6vRgd7Qryps"
      },
      "outputs": [],
      "source": [
        "# Deleting the last column in the dataframe\n",
        "steps = steps.iloc[: , :-1]\n",
        "steps.columns"
      ]
    },
    {
      "cell_type": "code",
      "execution_count": null,
      "metadata": {
        "id": "IAwd3-8gySbh"
      },
      "outputs": [],
      "source": [
        "# Renaming the column names\n",
        "steps.rename(columns = {'Unnamed: 0':'Date','Bieżąca':'Steps'}, inplace = True)\n",
        "steps.head()"
      ]
    },
    {
      "cell_type": "code",
      "execution_count": null,
      "metadata": {
        "id": "oRgTUsaWsX5L"
      },
      "outputs": [],
      "source": [
        "# Converting the Date column into string\n",
        "# Splitting the Date column into Day, Month and Year\n",
        "# Filling 0 where needed in the Day column\n",
        "\n",
        "steps['Date'] = steps['Date'].astype('str')\n",
        "steps['Date'] = steps['Date'].str.strip()\n",
        "new = steps[\"Date\"].str.split(\" \", n = 1, expand = True)\n",
        "steps[\"Day\"] = new[0]\n",
        "steps[\"Month\"] = new[1]\n",
        "steps[\"Year\"] = year\n",
        "\n",
        "n = 2\n",
        "steps['Day'] = steps['Day'].str.zfill(n)\n",
        "steps.head()"
      ]
    },
    {
      "cell_type": "code",
      "execution_count": null,
      "metadata": {
        "id": "QqBBCFzGxChK"
      },
      "outputs": [],
      "source": [
        "# Replacing polish shortcuts of months names into appropriate numbers\n",
        "steps['Month'] = steps['Month'].replace(['sty', 'lut', 'mar', 'kwi', 'maj', 'cze', 'lip', 'sie', 'wrz', 'paź', 'lis','gru'],['01', '02', '03', '04', '05', '06', '07', '08', '09', '10', '11', '12'])\n",
        "steps.head()"
      ]
    },
    {
      "cell_type": "code",
      "execution_count": null,
      "metadata": {
        "id": "4l508ZVu_Fnj"
      },
      "outputs": [],
      "source": [
        "# Concatenating three columns (Day, Month, Year) into one (New_date)\n",
        "steps['New_date'] = steps['Year'] + '-' + steps['Month'] + '-' + steps['Day']\n",
        "#pd.to_datetime(steps2['New_date'])\n",
        "steps.head()"
      ]
    },
    {
      "cell_type": "code",
      "execution_count": null,
      "metadata": {
        "id": "Gfd9ooJgY91c"
      },
      "outputs": [],
      "source": [
        "# Checking for duplicated dates\n",
        "check = steps[steps.duplicated(['New_date'], keep=False)]\n",
        "\n",
        "if check.empty:\n",
        "  duplicates = False\n",
        "  print(\"There are no duplicates.\")\n",
        "else:\n",
        "  duplicates = True\n",
        "  print(\"There are duplicates.\")\n"
      ]
    },
    {
      "cell_type": "code",
      "source": [
        "  display(check)"
      ],
      "metadata": {
        "id": "n64lYbr6phth"
      },
      "execution_count": null,
      "outputs": []
    },
    {
      "cell_type": "code",
      "source": [
        "if duplicates:\n",
        "  steps = steps.drop_duplicates(keep='first')\n",
        "  steps = steps.sort_values(['New_date', 'Steps'], ascending=[True, True])\n",
        "  steps = steps.drop_duplicates(subset=['New_date'], keep='last')\n",
        "  steps = steps.sort_values(['New_date'], ascending=[True])\n",
        "  check = steps[steps.duplicated(['New_date'], keep=False)]\n",
        "  if check.empty:\n",
        "    duplicates = False\n",
        "    print(\"There are no duplicates.\")\n",
        "  else:\n",
        "    duplicates = True\n",
        "    print(\"There are still duplicates.\")"
      ],
      "metadata": {
        "id": "hEmZWJuhJ9LX"
      },
      "execution_count": null,
      "outputs": []
    },
    {
      "cell_type": "code",
      "source": [
        "steps.tail()"
      ],
      "metadata": {
        "id": "ZoqC-J09LPXr"
      },
      "execution_count": null,
      "outputs": []
    },
    {
      "cell_type": "code",
      "source": [
        "x = (steps[steps.iloc[:, 1] == 0])\n",
        "print(f'There are {len(x)} null values')\n",
        "if len(x) != 0:\n",
        "  steps = steps.drop(steps[steps.iloc[:, 1] == 0].index)\n",
        "  display(steps)"
      ],
      "metadata": {
        "id": "FFFUGR3MvgWE"
      },
      "execution_count": null,
      "outputs": []
    },
    {
      "cell_type": "code",
      "execution_count": null,
      "metadata": {
        "id": "kB5R2ItKXTbE"
      },
      "outputs": [],
      "source": [
        "# Sorting dataframe by New_date column values\n",
        "steps = steps.sort_values(by=\"New_date\")\n",
        "steps.tail(20)"
      ]
    },
    {
      "cell_type": "code",
      "execution_count": null,
      "metadata": {
        "id": "D-Hnreo3gE7W"
      },
      "outputs": [],
      "source": [
        "# Changing type of New_data column\n",
        "steps['New_date'] = [dt.datetime.strptime(x,\"%Y-%m-%d\") for x in steps['New_date']]\n",
        "print(\"Type of New_data column has been changed.\")"
      ]
    },
    {
      "cell_type": "code",
      "execution_count": null,
      "metadata": {
        "id": "joiUGQqbmbEO"
      },
      "outputs": [],
      "source": [
        "# Creating new columns: Weekday and Month and reseting the index\n",
        "steps['Weekday'] = steps['New_date'].dt.day_name()\n",
        "steps['Month'] = steps['New_date'].dt.month_name()\n",
        "steps.reset_index(inplace=True)\n",
        "steps.head()"
      ]
    },
    {
      "cell_type": "code",
      "execution_count": null,
      "metadata": {
        "id": "zBx8_NPDJq_U"
      },
      "outputs": [],
      "source": [
        "# Assigning seasons to dates\n",
        "winter_1 = (steps['New_date'] >= '2023-01-01') & (steps['New_date'] <= '2023-03-20')\n",
        "winter_2 = (steps['New_date'] >= '2023-12-21')\n",
        "spring = (steps['New_date'] >= '2023-03-21') & (steps['New_date'] <= '2023-06-21')\n",
        "summer = (steps['New_date'] >= '2023-06-22') & (steps['New_date'] <= '2023-09-22')\n",
        "autumn = (steps['New_date'] >= '2023-09-23') & (steps['New_date'] <= '2023-12-21')\n",
        "\n",
        "steps.loc[winter_1,'Season'] ='Winter'\n",
        "steps.loc[winter_2,'Season'] ='Winter'\n",
        "steps.loc[spring,'Season'] ='Spring'\n",
        "steps.loc[summer,'Season'] ='Summer'\n",
        "steps.loc[autumn,'Season'] ='Autumn'"
      ]
    },
    {
      "cell_type": "code",
      "source": [
        "steps.head()"
      ],
      "metadata": {
        "id": "-yn4byKOIhWK"
      },
      "execution_count": null,
      "outputs": []
    },
    {
      "cell_type": "code",
      "source": [
        "steps.tail(10)"
      ],
      "metadata": {
        "id": "HQcvgJ3nImeW"
      },
      "execution_count": null,
      "outputs": []
    },
    {
      "cell_type": "code",
      "execution_count": null,
      "metadata": {
        "id": "VOKlRukdnSee"
      },
      "outputs": [],
      "source": [
        "# Reordering the columns\n",
        "df = steps[['New_date', 'Month', 'Weekday','Season','Steps']]\n",
        "df.head()"
      ]
    },
    {
      "cell_type": "code",
      "execution_count": null,
      "metadata": {
        "id": "LQIhdBJvz60h"
      },
      "outputs": [],
      "source": [
        "# Checking if the length of dataframe is appropriate\n",
        "\n",
        "cy = datetime.date.today().year\n",
        "cdy = (df['New_date'].iloc[-1]).timetuple().tm_yday\n",
        "\n",
        "if cy != 2023:\n",
        "  n = 365\n",
        "  if n-len(df) == 0:\n",
        "    print (\"Valid number of days.\")\n",
        "  else:\n",
        "    print (\"Invalid number of days.\")\n",
        "else:\n",
        "  if cdy == len(df):\n",
        "    print (\"Valid number of days.\")\n",
        "  else:\n",
        "    print (\"Invalid number of days.\")"
      ]
    },
    {
      "cell_type": "code",
      "execution_count": null,
      "metadata": {
        "id": "CN81jLYX1ItA"
      },
      "outputs": [],
      "source": [
        "df.to_csv(f'/content/drive/MyDrive/Colab Notebooks/Tableau/Outputs/Steps_{year}.csv')\n",
        "print(\"The file has been exported to the intended location.\")"
      ]
    },
    {
      "cell_type": "code",
      "source": [
        "# Annual statistics (sum, mean, max, min) and the calculation of goal achievement\n",
        "x = df[\"Steps\"]\n",
        "\n",
        "x1 = str(x.sum())\n",
        "x2 = str(round(x.mean()))\n",
        "x3 = str(x.max())\n",
        "x4 = str(x.min())\n",
        "\n",
        "goal = df['Steps']> 10000\n",
        "goal = df[goal]\n",
        "res = len(goal.index)\n",
        "x5 = \"{:.0%}\".format(res/365)\n",
        "\n",
        "print(\n",
        "\"In 2023 I did:\\n\\n\" + x1 +\n",
        "\" - total steps,\\n\" + x2 +\n",
        "\" - average,\\n\" + x3 +\n",
        "\" - max in a day,\\n\" + x4 +\n",
        "\" - min in a day.\\n\\nMoreover I had \" +\n",
        "str(res) + ' days when the goal of 10 000 steps per day was achieved and it constitutes ' +\n",
        "x5 +'.')"
      ],
      "metadata": {
        "id": "_W7AO7z07f_D"
      },
      "execution_count": null,
      "outputs": []
    }
  ],
  "metadata": {
    "colab": {
      "provenance": [],
      "mount_file_id": "1hJeWnWYJnbE6fqcB1pYQ2Y1jRenIY0sU",
      "authorship_tag": "ABX9TyOQOLNdoE6eBBkrg0NBwQU5"
    },
    "kernelspec": {
      "display_name": "Python 3",
      "name": "python3"
    },
    "language_info": {
      "name": "python"
    }
  },
  "nbformat": 4,
  "nbformat_minor": 0
}