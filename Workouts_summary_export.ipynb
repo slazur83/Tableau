{
  "nbformat": 4,
  "nbformat_minor": 0,
  "metadata": {
    "colab": {
      "provenance": [],
      "mount_file_id": "12B9bA3LKgN2-D6pDfEAwYP9Y2LhCFZo_",
      "authorship_tag": "ABX9TyNH8RTa96PGlQXHtPLSRDAM"
    },
    "kernelspec": {
      "name": "python3",
      "display_name": "Python 3"
    },
    "language_info": {
      "name": "python"
    }
  },
  "cells": [
    {
      "cell_type": "code",
      "execution_count": null,
      "metadata": {
        "id": "ZYS-ofWD4-7d"
      },
      "outputs": [],
      "source": [
        "import pandas as pd\n",
        "import requests\n",
        "import json\n",
        "\n",
        "from google.colab import drive\n",
        "from io import StringIO"
      ]
    },
    {
      "cell_type": "code",
      "source": [
        "drive.mount('/content/drive')\n",
        "config_file_path = \"/content/drive/MyDrive/Skrypty/config.json\"\n",
        "\n",
        "with open(config_file_path, 'r') as config_file:\n",
        "    config = json.load(config_file)\n",
        "\n",
        "running = config['running_monthly_summary']\n",
        "cycling = config['cycling_monthly_summary']\n",
        "\n",
        "output_file = config['workouts_summary_export']\n",
        "\n",
        "document_key = input_file.split('/')[-2]\n",
        "url = f'https://docs.google.com/spreadsheets/d/{document_key}/export?format=csv&id={document_key}&gid=0'\n",
        "response = requests.get(url)\n",
        "response_content = response.content.decode('utf-8')"
      ],
      "metadata": {
        "id": "OeB0RPSM5JqS"
      },
      "execution_count": null,
      "outputs": []
    },
    {
      "cell_type": "code",
      "source": [
        "data = StringIO(response_content)\n",
        "df = pd.read_csv(data, header=1)"
      ],
      "metadata": {
        "id": "x1RB53EIC6rU"
      },
      "execution_count": null,
      "outputs": []
    },
    {
      "cell_type": "code",
      "source": [
        "mapped_data = []\n",
        "for index, row in df.iterrows():\n",
        "    for col in df.columns[1:]:\n",
        "        if pd.notna(row[col]) and col != 'średnia' and col != 'miesiąc / rok' and row['miesiąc / rok'] != 'razem':\n",
        "            mapped_data.append({\n",
        "                'rok': col,\n",
        "                'miesiąc': row['miesiąc / rok'],\n",
        "                'dystans': row[col]\n",
        "            })\n",
        "\n",
        "mapped_df = pd.DataFrame(mapped_data)\n",
        "\n",
        "month_dict = {\n",
        "    'styczeń': '01', 'luty': '02', 'marzec': '03', 'kwiecień': '04',\n",
        "    'maj': '05', 'czerwiec': '06', 'lipiec': '07', 'sierpień': '08',\n",
        "    'wrzesień': '09', 'październik': '10', 'listopad': '11', 'grudzień': '12'}\n",
        "\n",
        "mapped_df['month'] = mapped_df['miesiąc'].map(month_dict)\n",
        "mapped_df['date'] = pd.to_datetime(mapped_df['rok'].astype(str) + '-' + mapped_df['miesiąc'].astype(str), format='%Y-%m', errors='coerce')\n",
        "mapped_df.sort_values(by=['rok', 'month'], inplace=True)\n",
        "mapped_df.drop(columns=['date', 'month'], inplace=True)"
      ],
      "metadata": {
        "id": "f4IbBhPPGNKw"
      },
      "execution_count": null,
      "outputs": []
    },
    {
      "cell_type": "code",
      "source": [
        "mapped_df.to_excel(output_file, index=False)"
      ],
      "metadata": {
        "id": "CTm0Qu47WALn"
      },
      "execution_count": null,
      "outputs": []
    }
  ]
}