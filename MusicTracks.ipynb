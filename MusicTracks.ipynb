{
  "cells": [
    {
      "cell_type": "code",
      "execution_count": 51,
      "metadata": {
        "id": "4Zo_gO9OWB_e"
      },
      "outputs": [],
      "source": [
        "import pandas as pd\n",
        "import glob\n",
        "import os\n",
        "import datetime as dt\n",
        "import shutil\n",
        "\n",
        "from datetime import datetime\n",
        "from google.colab import files"
      ]
    },
    {
      "cell_type": "markdown",
      "source": [
        "# **Spotify**"
      ],
      "metadata": {
        "id": "vqLYlxpjTaKw"
      }
    },
    {
      "cell_type": "markdown",
      "source": [
        "Account connected with **slazur83@gmail**"
      ],
      "metadata": {
        "id": "Y4onxXLETttG"
      }
    },
    {
      "cell_type": "code",
      "execution_count": 52,
      "metadata": {
        "id": "lOLZJMwMp2Kf"
      },
      "outputs": [],
      "source": [
        "# File path to the JSON files\n",
        "\n",
        "file_list = glob.glob('/content/drive/MyDrive/Dane z aplikacji/Spotify/slazur83@gmail.com/MyData/StreamingHistory*.json')\n",
        "df_list = []\n",
        "\n",
        "for filename in file_list:\n",
        "    with open(filename, encoding='utf-8') as inputfile:\n",
        "        df = pd.read_json(inputfile)\n",
        "        df_list.append(df)\n",
        "\n",
        "df1 = pd.concat(df_list, ignore_index=True)\n",
        "df1['Account'] = 'slazur83@gmail.com'"
      ]
    },
    {
      "cell_type": "markdown",
      "source": [
        "Account connected with **zethar182@gmail**"
      ],
      "metadata": {
        "id": "saN8Gs4xT3FD"
      }
    },
    {
      "cell_type": "code",
      "execution_count": 53,
      "metadata": {
        "id": "2UhCn0mo6w0X"
      },
      "outputs": [],
      "source": [
        "# File path to the JSON files\n",
        "\n",
        "file_list = glob.glob('/content/drive/MyDrive/Dane z aplikacji/Spotify/zethar182@gmail.com/MyData/StreamingHistory*.json')\n",
        "df_list = []\n",
        "\n",
        "for filename in file_list:\n",
        "    with open(filename, encoding='utf-8') as inputfile:\n",
        "        df = pd.read_json(inputfile)\n",
        "        df_list.append(df)\n",
        "\n",
        "df2 = pd.concat(df_list, ignore_index=True)\n",
        "df2['Account'] = 'zethar182@gmail.com'"
      ]
    },
    {
      "cell_type": "markdown",
      "source": [
        "Concatenation of Spotify data"
      ],
      "metadata": {
        "id": "LS-2MtR6eQIi"
      }
    },
    {
      "cell_type": "code",
      "execution_count": 54,
      "metadata": {
        "id": "pVav-Rjf7O5C"
      },
      "outputs": [],
      "source": [
        "df_spotify = pd.concat([df1,df2], ignore_index=True)\n",
        "df_spotify['Source'] = 'Spotify'"
      ]
    },
    {
      "cell_type": "code",
      "execution_count": 55,
      "metadata": {
        "id": "b2Qk2RVn1UsT"
      },
      "outputs": [],
      "source": [
        "# Rename columns in the dataframe\n",
        "df_spotify.rename(columns={'endTime': 'Date', 'artistName': 'Artist', 'trackName': 'Track', 'msPlayed': 'Duration'}, inplace=True)\n",
        "\n",
        "# Reorder columns in the dataframe\n",
        "df_spotify = df_spotify[['Artist', 'Track', 'Date', 'Duration', 'Source', 'Account']]"
      ]
    },
    {
      "cell_type": "markdown",
      "source": [
        "# **LastFM**"
      ],
      "metadata": {
        "id": "JYt3e2Mrej3L"
      }
    },
    {
      "cell_type": "code",
      "execution_count": null,
      "metadata": {
        "id": "9fJJBFSfzYw_"
      },
      "outputs": [],
      "source": [
        "# File name to upload\n",
        "uploaded_filename = 'slazur83.csv'\n",
        "\n",
        "# Check if a file with the same name exists and delete it if it exists\n",
        "if os.path.exists(uploaded_filename):\n",
        "    creation_time = os.path.getctime(uploaded_filename)\n",
        "    creation_date = dt.datetime.fromtimestamp(creation_time).strftime('%Y-%m-%d %H:%M:%S')\n",
        "\n",
        "    os.remove(uploaded_filename)\n",
        "    print(f\"Deleted the existing file {uploaded_filename} created on {creation_date}\")\n",
        "\n",
        "# Upload a new version of the file\n",
        "uploaded = files.upload()\n",
        "\n",
        "lastfm_local_path = uploaded_filename"
      ]
    },
    {
      "cell_type": "code",
      "execution_count": 57,
      "metadata": {
        "colab": {
          "base_uri": "https://localhost:8080/"
        },
        "id": "f5zxLXyA0WPa",
        "outputId": "0869c31b-1e72-450c-c5c2-835706ba45be"
      },
      "outputs": [
        {
          "output_type": "stream",
          "name": "stdout",
          "text": [
            "The file slazur83.csv has been moved to appropriate folder in Google Drive.\n"
          ]
        }
      ],
      "source": [
        "import shutil\n",
        "\n",
        "lastfm = f'/content/drive/MyDrive/Dane z aplikacji/LastFM/{uploaded_filename}.csv'\n",
        "shutil.copy(lastfm_local_path, lastfm)\n",
        "\n",
        "print(f\"The file {uploaded_filename} has been moved to appropriate folder in Google Drive.\")"
      ]
    },
    {
      "cell_type": "code",
      "execution_count": 59,
      "metadata": {
        "id": "uww1RwK_2fqW"
      },
      "outputs": [],
      "source": [
        "# Read the CSV file into a dataframe\n",
        "df_lastfm = pd.read_csv(lastfm, header=None, names=['Artist', 'Album', 'Track', 'Date'])\n",
        "\n",
        "def convert_to_datetime(date_str):\n",
        "    return datetime.strptime(date_str, \"%d %b %Y %H:%M\")\n",
        "\n",
        "df_lastfm['Date'] = df_lastfm['Date'].apply(convert_to_datetime)\n",
        "\n",
        "# Add new columns to the dataframe\n",
        "df_lastfm['Source'] = 'LastFM'\n",
        "df_lastfm['Account'] = 'slazur83@gmail.com'"
      ]
    },
    {
      "cell_type": "markdown",
      "source": [
        "# **Deezer**"
      ],
      "metadata": {
        "id": "j8veMxiBg5QJ"
      }
    },
    {
      "cell_type": "code",
      "execution_count": 60,
      "metadata": {
        "id": "0xH9JpEB3SVt"
      },
      "outputs": [],
      "source": [
        "# File path to the Excel file\n",
        "deezer = '/content/drive/MyDrive/Dane z aplikacji/Deezer/4519420622.xlsx'\n",
        "\n",
        "# Read the specified sheet from the Excel file into a dataframe\n",
        "df_deezer = pd.read_excel(deezer, sheet_name=\"10_listeningHistory\")\n",
        "\n",
        "# Rename columns in the dataframe\n",
        "df_deezer.rename(columns={'Song Title': 'Track', 'Album Title': 'Album', 'Listening Time': 'Duration', 'Platform Name':'Platform'}, inplace=True)\n",
        "\n",
        "# Delete a column 'ISRC' from the dataframe\n",
        "del df_deezer['ISRC']\n",
        "\n",
        "# Add new columns to the dataframe\n",
        "df_deezer['Source'] = 'Deezer'\n",
        "df_deezer['Account'] = 'slazur83@gmail.com'"
      ]
    },
    {
      "cell_type": "markdown",
      "source": [
        "# **Concatenatation of the three dataframes into one**"
      ],
      "metadata": {
        "id": "DXNbogm4hrgF"
      }
    },
    {
      "cell_type": "code",
      "execution_count": null,
      "metadata": {
        "id": "YWG1LUHv6ITr"
      },
      "outputs": [],
      "source": [
        "# Concatenate the three dataframes into one, ignoring their original indices\n",
        "merged = pd.concat([df_spotify, df_lastfm, df_deezer], ignore_index=True)\n",
        "\n",
        "# Check if the length of each of the original dataframes df1, df2, and df3 added together is equal to the length of the merged dataframe.\n",
        "len_df_spotify = sum([len(df_spotify)])\n",
        "len_df_lastfm = sum([len(df_lastfm)])\n",
        "len_df_deezer = sum([len(df_deezer)])\n",
        "\n",
        "if len_df_spotify + len_df_lastfm + len_df_deezer == len(merged):\n",
        "  print('All data is merged')\n",
        "else:\n",
        "  print('Not all data is merged')\n",
        "\n",
        "# Check if there are nulls in the merged dataframe\n",
        "nulls = merged['Date'].isna().sum()\n",
        "if nulls:\n",
        "  if nulls < 15:\n",
        "    merged.dropna(subset=['Date'], inplace=True)\n",
        "    print(f'{nulls} rows with empty Date column have been dropped.')\n",
        "  else:\n",
        "    print(f'There are {nulls} nulls. It should be checked')\n",
        "else:\n",
        "  print('There are no nulls')"
      ]
    },
    {
      "cell_type": "code",
      "execution_count": null,
      "metadata": {
        "id": "bdpn0dT3Yhii"
      },
      "outputs": [],
      "source": [
        "# Reorder columns in the merged dataframe\n",
        "merged = merged[['Date', 'Artist', 'Track', 'Album', 'Duration', 'Source', 'Account', 'Platform', 'Platform Model', 'IP Address']]\n",
        "\n",
        "# Change Date field to time format\n",
        "merged['Date'] = pd.to_datetime(merged['Date'])\n",
        "merged.sort_values(by='Date')"
      ]
    },
    {
      "cell_type": "code",
      "execution_count": null,
      "metadata": {
        "id": "3wS67Lti-XST"
      },
      "outputs": [],
      "source": [
        "print(f'Length of df_spotify is {len_df_spotify}, lenght of df_lastfm is {len_df_lastfm}, length of df_deezer is {len_df_deezer}')"
      ]
    },
    {
      "cell_type": "code",
      "execution_count": null,
      "metadata": {
        "id": "VdG4hqnCbR8C"
      },
      "outputs": [],
      "source": [
        "print(f\"Spotify --> {df_spotify['Date'].min()} to {df_spotify['Date'].max()}\\n\")\n",
        "print(f\"Deezer --> {df_deezer['Date'].min()} to {df_deezer['Date'].max()}\\n\")\n",
        "print(f\"LastFM --> since {df_lastfm['Date'].min()} to {df_lastfm['Date'].max()}\\n\")"
      ]
    },
    {
      "cell_type": "code",
      "execution_count": 69,
      "metadata": {
        "id": "DpJ55Bj-dLW5"
      },
      "outputs": [],
      "source": [
        "# Export the merged dataframe to the music_tracks.csv file\n",
        "merged.to_csv('/content/drive/MyDrive/Colab Notebooks/Tableau/Outputs/music_tracks.csv', index=False)"
      ]
    },
    {
      "cell_type": "code",
      "execution_count": null,
      "metadata": {
        "id": "fh_Jb3pAVzHS"
      },
      "outputs": [],
      "source": [
        "# Import the exported CSV file\n",
        "try:\n",
        "    df = pd.read_csv('/content/drive/MyDrive/Colab Notebooks/Tableau/Outputs/music_tracks.csv')\n",
        "    print(\"CSV file imported successfully.\")\n",
        "except FileNotFoundError:\n",
        "    print(\"CSV file not found.\")\n",
        "    df = None"
      ]
    }
  ],
  "metadata": {
    "colab": {
      "provenance": [],
      "mount_file_id": "1Nxr7fSxPw5_9luzBYxemvGg8v40m-82q",
      "authorship_tag": "ABX9TyNMhvPNkx/eAW02nmD25h7V"
    },
    "kernelspec": {
      "display_name": "Python 3",
      "name": "python3"
    },
    "language_info": {
      "name": "python"
    }
  },
  "nbformat": 4,
  "nbformat_minor": 0
}