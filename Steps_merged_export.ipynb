{
  "nbformat": 4,
  "nbformat_minor": 0,
  "metadata": {
    "colab": {
      "provenance": [],
      "mount_file_id": "1RTlaGtxB2tVBNroChs2ZYfZBlbNRNb3M",
      "authorship_tag": "ABX9TyM2XlJ7KuyV4k5lrlJXXeGy"
    },
    "kernelspec": {
      "name": "python3",
      "display_name": "Python 3"
    },
    "language_info": {
      "name": "python"
    }
  },
  "cells": [
    {
      "cell_type": "code",
      "execution_count": null,
      "metadata": {
        "id": "L_Jkc34RUu_i",
        "colab": {
          "base_uri": "https://localhost:8080/"
        },
        "outputId": "0e7e2e99-2623-4072-9a96-f921a18a59b7"
      },
      "outputs": [
        {
          "output_type": "stream",
          "name": "stdout",
          "text": [
            "There are no duplicates.\n",
            "CSV files have been merged, sorted by date, and saved as 'merged.csv'.\n"
          ]
        }
      ],
      "source": [
        "import pandas as pd\n",
        "import os\n",
        "\n",
        "folder_path = \"/content/drive/MyDrive/Skrypty/Tableau/Outputs/\"\n",
        "output_file_path = f'{folder_path}/merged.csv'\n",
        "\n",
        "csv_files = [file for file in os.listdir(folder_path) if file.startswith(\"Steps\") and file.endswith(\".csv\")]\n",
        "data_frames = []\n",
        "\n",
        "for csv_file in csv_files:\n",
        "    file_path = os.path.join(folder_path, csv_file)\n",
        "    data_frame = pd.read_csv(file_path)\n",
        "    data_frames.append(data_frame)\n",
        "\n",
        "merged = pd.concat(data_frames, ignore_index=True)\n",
        "merged['New_date'] = pd.to_datetime(merged['New_date'])\n",
        "merged = merged.sort_values(by='New_date')\n",
        "\n",
        "# Checking for duplicated dates\n",
        "duplicates = merged[merged.duplicated(['New_date'], keep=False)]\n",
        "\n",
        "if duplicates.empty:\n",
        "    print(\"There are no duplicates.\")\n",
        "else:\n",
        "    # Drop duplicates based on the 'New_date' column, keeping the first occurrence\n",
        "    merged = merged.drop_duplicates(subset=['New_date'], keep='first').reset_index(drop=True)\n",
        "    print(f\"{len(duplicates)} duplicates removed.\")\n",
        "\n",
        "# Remove the existing 'Unnamed: 0' column if it already exists\n",
        "if 'Unnamed: 0' in merged.columns:\n",
        "    merged.drop('Unnamed: 0', axis=1, inplace=True)\n",
        "\n",
        "# Add a new column as a counter starting from 0\n",
        "merged.insert(0, 'Unnamed: 0', range(len(merged)))\n",
        "\n",
        "# Reset the index to create a new counter starting from 0\n",
        "merged.reset_index(drop=True, inplace=True)\n",
        "\n",
        "# Save the sorted and updated DataFrame to a CSV file\n",
        "merged.to_csv(output_file_path, index=False)\n",
        "\n",
        "print(\"CSV files have been merged, sorted by date, and saved as 'merged.csv'.\")\n"
      ]
    }
  ]
}