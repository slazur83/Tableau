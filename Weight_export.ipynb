{
  "nbformat": 4,
  "nbformat_minor": 0,
  "metadata": {
    "colab": {
      "provenance": [],
      "mount_file_id": "1tWcfPloR3QSmltaxSdzLkWwj8o16psbH",
      "authorship_tag": "ABX9TyPIv6VYQqLR3QWWr2L+9d+I",
      "include_colab_link": true
    },
    "kernelspec": {
      "name": "python3",
      "display_name": "Python 3"
    },
    "language_info": {
      "name": "python"
    }
  },
  "cells": [
    {
      "cell_type": "markdown",
      "metadata": {
        "id": "view-in-github",
        "colab_type": "text"
      },
      "source": [
        "<a href=\"https://colab.research.google.com/github/slazur83/Tableau/blob/main/Weight_export.ipynb\" target=\"_parent\"><img src=\"https://colab.research.google.com/assets/colab-badge.svg\" alt=\"Open In Colab\"/></a>"
      ]
    },
    {
      "cell_type": "code",
      "execution_count": 47,
      "metadata": {
        "id": "Ezt_LhmaIgwX"
      },
      "outputs": [],
      "source": [
        "import pandas as pd\n",
        "import glob\n",
        "import os\n",
        "import json\n",
        "import numpy as np\n",
        "from datetime import datetime\n",
        "from google.colab import userdata\n",
        "from google.colab import files"
      ]
    },
    {
      "cell_type": "code",
      "source": [
        "config_file_path = \"/content/drive/MyDrive/Colab Notebooks/config.json\"\n",
        "\n",
        "with open(config_file_path, 'r') as config_file:\n",
        "    config = json.load(config_file)\n",
        "\n",
        "google_sheets_moja_waga = config['google_sheets_moja_waga']\n",
        "document_key = google_sheets_moja_waga.split('/')[-2]"
      ],
      "metadata": {
        "id": "PV4RyYwwhHx7"
      },
      "execution_count": 48,
      "outputs": []
    },
    {
      "cell_type": "markdown",
      "source": [
        "**Google Sheets**"
      ],
      "metadata": {
        "id": "RGoUlRGNOts6"
      }
    },
    {
      "cell_type": "code",
      "source": [
        "# data from 2020\n",
        "google_sheets_moja_waga_2020 = f'https://docs.google.com/spreadsheets/d/{document_key}/export?format=csv&gid=0'\n",
        "df1 = pd.read_csv(google_sheets_moja_waga_2020, header=1)"
      ],
      "metadata": {
        "id": "f13QXzgJgvFR"
      },
      "execution_count": 49,
      "outputs": []
    },
    {
      "cell_type": "code",
      "source": [
        "# data from 2017\n",
        "google_sheets_moja_waga_2017 = f'https://docs.google.com/spreadsheets/d/{document_key}/export?format=csv&gid=2116961746'\n",
        "df2 = pd.read_csv(google_sheets_moja_waga_2017, header=1)\n",
        "df2['data'] = pd.to_datetime(df2['data'], format='%m/%d/%Y').dt.strftime('%Y-%m-%d')\n",
        "df2['waga [kg]'] = df2['waga [kg]'].str.replace(' kg', '').astype(float)"
      ],
      "metadata": {
        "id": "IBCIcH7zhlnv"
      },
      "execution_count": 50,
      "outputs": []
    },
    {
      "cell_type": "code",
      "source": [
        "# data from 2016\n",
        "google_sheets_moja_waga_2016 = f'https://docs.google.com/spreadsheets/d/{document_key}/export?format=csv&gid=552331991'\n",
        "df3 = pd.read_csv(google_sheets_moja_waga_2016, header=1)\n",
        "df3['data'] = pd.to_datetime(df3['data'], format='%m/%d/%Y').dt.strftime('%Y-%m-%d')\n",
        "df3['waga [kg]'] = df3['waga [kg]'].str.replace(' kg', '').astype(float)"
      ],
      "metadata": {
        "id": "3kIhqtBvmABK"
      },
      "execution_count": null,
      "outputs": []
    },
    {
      "cell_type": "code",
      "source": [
        "df = pd.concat([df1, df2, df3], ignore_index=True)"
      ],
      "metadata": {
        "id": "OPxxXEGRi11z"
      },
      "execution_count": 51,
      "outputs": []
    },
    {
      "cell_type": "code",
      "source": [
        "df = df.iloc[1:, 1:]\n",
        "df = df.rename(columns=dict(zip(df.columns, ['Date', 'Time', 'Weight'])))\n",
        "df.replace('-', np.nan, inplace=True)\n",
        "df['Weight'] = df['Weight'].str.replace(',', '.').astype(float)"
      ],
      "metadata": {
        "id": "z8XUCCDtQO76"
      },
      "execution_count": 52,
      "outputs": []
    },
    {
      "cell_type": "code",
      "source": [
        "duplicated_rows = df.duplicated()\n",
        "if duplicated_rows.sum() > 0:\n",
        "  df = df.drop_duplicates()\n",
        "  print (f\"Found {duplicated_rows.sum()} rows. Deleted.\")"
      ],
      "metadata": {
        "id": "f0XeHlU-eTL3"
      },
      "execution_count": 54,
      "outputs": []
    },
    {
      "cell_type": "code",
      "source": [
        "df_sorted = df.sort_values(by='Date')\n",
        "df_google_sheets = df_sorted.dropna(how='all')"
      ],
      "metadata": {
        "id": "i6MfC1Gdjvmj"
      },
      "execution_count": 55,
      "outputs": []
    },
    {
      "cell_type": "code",
      "source": [
        "print(f'Number of entries: {len(df_google_sheets)}')\n",
        "print(f'Date of first entry: {df_google_sheets[\"Date\"].iloc[0]}')\n",
        "print(f'Date of last entry: {df_google_sheets[\"Date\"].iloc[-1]}')"
      ],
      "metadata": {
        "colab": {
          "base_uri": "https://localhost:8080/"
        },
        "id": "vLGvjT5odQ8g",
        "outputId": "eaf7e033-7a9a-4123-dcfb-21c19d6e8e96"
      },
      "execution_count": 56,
      "outputs": [
        {
          "output_type": "stream",
          "name": "stdout",
          "text": [
            "Number of entries: 56\n",
            "Date of first entry: 2017-03-05\n",
            "Date of last entry: 2020-11-29\n"
          ]
        }
      ]
    },
    {
      "cell_type": "markdown",
      "source": [
        "**Garmin Connect**\n",
        "\n"
      ],
      "metadata": {
        "id": "p59P79JT39z7"
      }
    },
    {
      "cell_type": "code",
      "source": [
        "garmin_connect_masa_ciala = config['garmin_connect_masa_ciala']\n",
        "file_paths = glob.glob(garmin_connect_masa_ciala)\n",
        "\n",
        "dfs = []\n",
        "for path in file_paths:\n",
        "    df = pd.read_csv(path)\n",
        "    dfs.append(df)\n",
        "\n",
        "df = pd.concat(dfs, ignore_index=True)\n",
        "df = df.iloc[:, :2]"
      ],
      "metadata": {
        "id": "VH44cFUVx625"
      },
      "execution_count": 57,
      "outputs": []
    },
    {
      "cell_type": "code",
      "source": [
        "data_values = df.values.tolist()\n",
        "merged_data = [data_values[i] + data_values[i+1] for i in range(0, len(data_values)-1)]\n",
        "df = pd.DataFrame(merged_data, columns=list(df.columns)*2)\n",
        "\n",
        "index = df.columns.tolist().index('Czas', 1)\n",
        "df.columns.values[index] = 'Czas2'\n",
        "df = df[~df['Czas'].str.contains(':')]\n",
        "\n",
        "df = df.iloc[:, [0, 2, 3]]"
      ],
      "metadata": {
        "id": "A7Mw9QtUPF5_"
      },
      "execution_count": 58,
      "outputs": []
    },
    {
      "cell_type": "code",
      "source": [
        "def replace_month(date_str):\n",
        "    months_pl_to_en = {\n",
        "        'Sty': 'Jan', 'Lut': 'Feb', 'Mar': 'Mar', 'Kwi': 'Apr',\n",
        "        'Maj': 'May', 'Cze': 'Jun', 'Lip': 'Jul', 'Sie': 'Aug',\n",
        "        'Wrz': 'Sep', 'Paź': 'Oct', 'Lis': 'Nov', 'Gru': 'Dec'\n",
        "    }\n",
        "    for pl, en in months_pl_to_en.items():\n",
        "        date_str = date_str.replace(pl, en)\n",
        "    return date_str.strip()\n",
        "\n",
        "df_copy = df.copy()\n",
        "df_copy.loc[:, 'Czas'] = df_copy['Czas'].apply(replace_month)\n",
        "df_copy.loc[:, 'Czas'] = pd.to_datetime(df_copy['Czas'], format=\"%d %b %Y\").dt.strftime('%Y-%m-%d')\n",
        "df = df_copy"
      ],
      "metadata": {
        "id": "Vq34eAIv0TgW"
      },
      "execution_count": 59,
      "outputs": []
    },
    {
      "cell_type": "code",
      "source": [
        "df = df.rename(columns={'Czas': 'Date', 'Czas2' : 'Time', 'Ciężar': 'Weight'})\n",
        "df = df.reindex(columns=['Date', 'Time', 'Weight'])\n",
        "df['Weight'] = df['Weight'].str.replace(' kg', '').astype(float)"
      ],
      "metadata": {
        "id": "j2I8wyQgHWlQ"
      },
      "execution_count": null,
      "outputs": []
    },
    {
      "cell_type": "code",
      "source": [
        "duplicated_rows = df.duplicated()\n",
        "print(f\"Number of duplicated rows: {duplicated_rows.sum()}\")\n",
        "\n",
        "if duplicated_rows.sum() > 0:\n",
        "  df = df.drop_duplicates()\n",
        "  print (f\"Found {duplicated_rows.sum()} rows. Deleted.\")"
      ],
      "metadata": {
        "id": "dT9xD0GjyYOC",
        "colab": {
          "base_uri": "https://localhost:8080/"
        },
        "outputId": "5cac2aeb-4ff5-4e49-8b29-cc8c9e774cd5"
      },
      "execution_count": null,
      "outputs": [
        {
          "output_type": "stream",
          "name": "stdout",
          "text": [
            "Number of duplicated rows: 6\n",
            "Found 6 rows. Deleted.\n"
          ]
        }
      ]
    },
    {
      "cell_type": "code",
      "source": [
        "df = df.sort_values(by=['Date', 'Time'], ascending=True)\n",
        "df_garmin_connect = df"
      ],
      "metadata": {
        "id": "UYY8PuTzTr5v"
      },
      "execution_count": null,
      "outputs": []
    },
    {
      "cell_type": "code",
      "source": [
        "print(f'Number of entries: {len(df_garmin_connect)}')\n",
        "print(f'Date of first entry: {df_garmin_connect[\"Date\"].iloc[0]}')\n",
        "print(f'Date of last entry: {df_garmin_connect[\"Date\"].iloc[-1]}')"
      ],
      "metadata": {
        "id": "NoYNQb3IkYJz",
        "colab": {
          "base_uri": "https://localhost:8080/"
        },
        "outputId": "4c582b57-83ab-4e43-cb74-7609dfc7de68"
      },
      "execution_count": null,
      "outputs": [
        {
          "output_type": "stream",
          "name": "stdout",
          "text": [
            "Number of entries: 378\n",
            "Date of first entry: 2020-12-06\n",
            "Date of last entry: 2024-03-01\n"
          ]
        }
      ]
    },
    {
      "cell_type": "markdown",
      "source": [
        "**Data Consalidation**"
      ],
      "metadata": {
        "id": "b0bs8kyZvMOL"
      }
    },
    {
      "cell_type": "code",
      "source": [
        "df_merged = pd.concat([df_google_sheets, df_garmin_connect], ignore_index=True)\n",
        "duplicated_rows = df_merged.duplicated()\n",
        "\n",
        "print(f\"Number of duplicated rows: {duplicated_rows.sum()}\")\n",
        "\n",
        "if duplicated_rows.sum() > 0:\n",
        "  df_merged = df_merged.drop_duplicates()\n",
        "  print (f\"Found {duplicated_rows.sum()} rows. Deleted\")"
      ],
      "metadata": {
        "colab": {
          "base_uri": "https://localhost:8080/"
        },
        "id": "yq3fLZIiUMur",
        "outputId": "43860301-8902-4798-d770-bf05266df99b"
      },
      "execution_count": null,
      "outputs": [
        {
          "output_type": "stream",
          "name": "stdout",
          "text": [
            "Number of duplicated rows: 0\n"
          ]
        }
      ]
    },
    {
      "cell_type": "code",
      "source": [
        "print(f'Number of entries: {len(df_merged)}')\n",
        "print(f'Date of first entry: {df_merged[\"Date\"].iloc[0]}')\n",
        "print(f'Date of last entry: {df_merged[\"Date\"].iloc[-1]}')"
      ],
      "metadata": {
        "colab": {
          "base_uri": "https://localhost:8080/"
        },
        "id": "_HO8pDeSxY1Q",
        "outputId": "567b18f7-e8cd-4e68-cb6e-503f7489778d"
      },
      "execution_count": null,
      "outputs": [
        {
          "output_type": "stream",
          "name": "stdout",
          "text": [
            "Number of entries: 428\n",
            "Date of first entry: 2020-02-02\n",
            "Date of last entry: 2024-03-01\n"
          ]
        }
      ]
    },
    {
      "cell_type": "code",
      "source": [
        "# Export the merged dataframe to the weight.csv file\n",
        "df_merged.to_csv('/content/drive/MyDrive/Colab Notebooks/Tableau/Outputs/weight.csv', index=False)"
      ],
      "metadata": {
        "id": "BqCKTHVMipPP"
      },
      "execution_count": null,
      "outputs": []
    }
  ]
}