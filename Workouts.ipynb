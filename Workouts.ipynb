{
  "nbformat": 4,
  "nbformat_minor": 0,
  "metadata": {
    "colab": {
      "provenance": [],
      "mount_file_id": "https://github.com/slazur83/Tableau/blob/main/Workouts.ipynb",
      "authorship_tag": "ABX9TyN6X1dJ9l95pXJ8Yrvu77+X"
    },
    "kernelspec": {
      "name": "python3",
      "display_name": "Python 3"
    },
    "language_info": {
      "name": "python"
    }
  },
  "cells": [
    {
      "cell_type": "code",
      "source": [
        "# Install the gpxpy package for working with GPX files\n",
        "!pip install gpxpy"
      ],
      "metadata": {
        "id": "kFIl8yxrGnK0"
      },
      "execution_count": null,
      "outputs": []
    },
    {
      "cell_type": "code",
      "source": [
        "import os\n",
        "import pandas as pd\n",
        "import numpy as np\n",
        "import json\n",
        "import os\n",
        "import gpxpy\n",
        "from datetime import datetime\n",
        "from dateutil import parser"
      ],
      "metadata": {
        "id": "8RyOvw5YDz5m"
      },
      "execution_count": null,
      "outputs": []
    },
    {
      "cell_type": "code",
      "source": [
        "workouts_folder_path1 = \"/content/drive/MyDrive/Dane z aplikacji/Endomondo/Workouts\"\n",
        "workouts_folder_path2 = \"/content/drive/MyDrive/Dane z aplikacji/MapMyRun/user184238914_workout_history.csv\"\n",
        "workouts_folder_path3 = \"/content/drive/MyDrive/Dane z aplikacji/Sports Tracker/Running workouts\"\n",
        "workouts_folder_path4 = \"/content/drive/MyDrive/Dane z aplikacji/Garmin Connect/Aktywności/Bieganie.csv\"\n",
        "google_sheets_link_1 = 'https://docs.google.com/spreadsheets/d/1I6XjfT990f6rArjYedIf0nw5vsBye_L6vkMILD8YjZI/edit?usp=sharing'\n",
        "google_sheets_link_2 = 'https://docs.google.com/spreadsheets/d/1sKQRBWY5xvY-erhFxXo0bC0pTpZT6QUUMx1fjLngGk0/edit?usp=drive_link'"
      ],
      "metadata": {
        "id": "idDygJeGFRSr"
      },
      "execution_count": null,
      "outputs": []
    },
    {
      "cell_type": "markdown",
      "source": [
        "**df1 => Endomondo export**"
      ],
      "metadata": {
        "id": "2cE59xIRD3n0"
      }
    },
    {
      "cell_type": "code",
      "execution_count": null,
      "metadata": {
        "id": "9fmMEbLi4tU2"
      },
      "outputs": [],
      "source": [
        "dfs = []\n",
        "\n",
        "files = [f for f in os.listdir(workouts_folder_path1) if f.endswith(\".json\")]\n",
        "\n",
        "if files:\n",
        "    for file_name in files:\n",
        "        file_path = os.path.join(workouts_folder_path1, file_name)\n",
        "\n",
        "        with open(file_path, 'r') as file:\n",
        "            try:\n",
        "                data = json.load(file)\n",
        "                if isinstance(data, list) and len(data) > 0:\n",
        "                    sport = 'Running' if data[0].get('sport') == 'RUNNING' else data[0].get('sport')\n",
        "                    if sport == 'Running':\n",
        "                        source = data[1].get('source')\n",
        "                        source = source.replace(\"INPUT_MANUAL\", \"Endomondo (Manual)\").replace(\"TRACK_MOBILE\", \"Endomondo (GPS)\") if pd.notna(source) else 'Endomondo'\n",
        "                        start_time = pd.to_datetime(data[3].get('start_time'))\n",
        "                        end_time = pd.to_datetime(data[4].get('end_time'))\n",
        "                        speed_avg_kmh = round(float(data[8].get('speed_avg_kmh')), 2) if data[8].get('speed_avg_kmh') is not None else None\n",
        "                        duration = (str(data[5].get('duration_s')).split('.')[0])if data[5].get('duration_s') is not None else None\n",
        "                        distance = round(float(data[6].get('distance_km')), 2) if duration is not None else None\n",
        "\n",
        "                        dfs.append({\n",
        "                            'sport': sport,\n",
        "                            'source': source,\n",
        "                            'date': start_time.date(),\n",
        "                            'start_time': start_time.time(),\n",
        "                            'end_time': end_time.time(),\n",
        "                            'duration_s': duration,\n",
        "                            'distance_km': distance,\n",
        "                            'speed_avg_kmh': speed_avg_kmh\n",
        "                        })\n",
        "\n",
        "            except Exception as e:\n",
        "                print(f\"Error processing JSON file {file_name}: {e}\")\n",
        "\n",
        "    df1 = pd.DataFrame(dfs).sort_values(by='date').reset_index(drop=True)\n",
        "    df1['date'] = df1['date'].astype(str).str.strip()\n",
        "    df1['date'] = pd.to_datetime(df1['date'])\n",
        "    df1['distance_km'] = df1['distance_km'].astype(float).round(2)\n",
        "    df1['duration_s'] = pd.to_numeric(df1['duration_s'], errors='coerce').astype('Int64')\n",
        "else:\n",
        "    print(\"No JSON files found in the specified folder.\")\n"
      ]
    },
    {
      "cell_type": "markdown",
      "source": [
        "**df2 => Map My Run export**"
      ],
      "metadata": {
        "id": "6SOFEbS2JG65"
      }
    },
    {
      "cell_type": "code",
      "source": [
        "df = pd.read_csv(workouts_folder_path2, header=None, skip_blank_lines=False)\n",
        "\n",
        "df2 = df[df[2] == 'Run'].copy()\n",
        "df2.rename(columns={1: 'date', 2: 'sport', 4: 'distance_km', 5: 'duration_s', 8: 'speed_avg_kmh', 13: 'source2', 14:'url'}, inplace=True)\n",
        "df2['sport'] = df2['sport'].apply(lambda x: 'Running' if x == 'Run' else x)\n",
        "df2['source'] = 'Map My Run app'\n",
        "df2.drop(columns=[0, 3, 6, 7, 9, 10, 11, 12], inplace=True)\n",
        "\n",
        "df2['date'] = df2['date'].apply(lambda x: parser.parse(x).strftime('%Y-%m-%d'))\n",
        "df2['date'] = pd.to_datetime(df2['date'])\n",
        "df2['distance_km'] = df2['distance_km'].astype(float).round(2)\n",
        "df2['duration_s'] = df2['duration_s'].astype(int)\n",
        "df2['speed_avg_kmh'] = df2['speed_avg_kmh'].astype(float).round(2)\n",
        "\n",
        "df2 = df2[['sport', 'source', 'date', 'duration_s', 'distance_km', 'speed_avg_kmh']]"
      ],
      "metadata": {
        "id": "7JpEor-nMDR8"
      },
      "execution_count": null,
      "outputs": []
    },
    {
      "cell_type": "markdown",
      "source": [
        "**df3 => export from Sports Tracker app**"
      ],
      "metadata": {
        "id": "ZK-NckruZHnB"
      }
    },
    {
      "cell_type": "code",
      "source": [
        "gpx_data_list = []\n",
        "\n",
        "for filename in os.listdir(workouts_folder_path3):\n",
        "    if filename.endswith(\".gpx\"):\n",
        "        gpx_file_path = os.path.join(workouts_folder_path3, filename)\n",
        "\n",
        "        with open(gpx_file_path, \"r\") as gpx_file:\n",
        "            gpx_data = gpxpy.parse(gpx_file)\n",
        "\n",
        "            if gpx_data.tracks and gpx_data.tracks[0].segments and gpx_data.tracks[0].segments[0].points:\n",
        "                start_time = gpx_data.tracks[0].segments[0].points[0].time\n",
        "\n",
        "                date = start_time.strftime(\"%Y-%m-%d\")\n",
        "                start_time = start_time.strftime(\"%H:%M:%S\")\n",
        "                end_time = gpx_data.tracks[0].segments[0].points[-1].time\n",
        "                duration_seconds = int((end_time - gpx_data.tracks[0].segments[0].points[0].time).total_seconds())\n",
        "\n",
        "                distance_km = round((gpx_data.length_3d() / 1000), 2)\n",
        "                speed_avg_kmh = round(distance_km / (duration_seconds / 3600), 2)\n",
        "\n",
        "                gpx_data_list.append({\n",
        "                    \"sport\" : \"Running\",\n",
        "                    \"source\" : \"Sports Tracker\",\n",
        "                    \"title\": np.nan,\n",
        "                    \"date\": date,\n",
        "                    \"start_time\": start_time,\n",
        "                    \"duration_s\": duration_seconds,\n",
        "                    \"distance_km\": distance_km,\n",
        "                    \"speed_avg_kmh\": speed_avg_kmh\n",
        "                })\n",
        "\n",
        "df3 = pd.DataFrame(gpx_data_list)\n",
        "df3['date'] = pd.to_datetime(df3['date'])\n",
        "mask = df3['date'] > '2020-12-01'\n",
        "df3 = df3[~mask]"
      ],
      "metadata": {
        "id": "sTAcpaEmMWnC"
      },
      "execution_count": null,
      "outputs": []
    },
    {
      "cell_type": "markdown",
      "source": [
        "**df4 => export from Garmin Connect till the end of 2023**"
      ],
      "metadata": {
        "id": "nevaKNicDuMe"
      }
    },
    {
      "cell_type": "code",
      "source": [
        "def convert_pace_to_speed(pace):\n",
        "    pace_in_seconds = int(pace.split(':')[0]) * 60 + int(pace.split(':')[1])\n",
        "    speed_in_kph = 3600 / pace_in_seconds\n",
        "    return speed_in_kph\n",
        "\n",
        "df4 = pd.read_csv(workouts_folder_path4, skip_blank_lines=False)\n",
        "df4['source'] = 'Garmin Connect'\n",
        "df4['Typ aktywności'] = df4['Typ aktywności'].replace('Bieganie', 'Running')\n",
        "df4['Czas'] = pd.to_timedelta(df4['Czas']).dt.total_seconds()\n",
        "df4['Czas'] = df4['Czas'].astype('int64')\n",
        "\n",
        "df4['Data'] = pd.to_datetime(df4['Data'])\n",
        "df4['start_time'] = df4['Data'].dt.time\n",
        "df4['Data'] = df4['Data'].dt.date\n",
        "\n",
        "df4.rename(columns={'Typ aktywności': 'sport', \"Data\": 'date', \"Czas\": \"duration_s\", \"Dystans\": \"distance_km\", \"Średnie tempo\": \"speed_avg_kmh\", \"Tytuł\": \"title\"}, inplace=True)\n",
        "df4['speed_avg_kmh'] = df4['speed_avg_kmh'].apply(convert_pace_to_speed).round(2)\n",
        "df4 = df4[['sport', 'source', 'title', 'date', 'start_time', 'duration_s', 'distance_km', 'speed_avg_kmh']]\n",
        "df4['date'] = pd.to_datetime(df4['date'])\n",
        "df4['title'] = df4['title'].apply(lambda x: np.nan if 'Bieganie' in x else x)"
      ],
      "metadata": {
        "id": "p9XgOqcgXZRa"
      },
      "execution_count": null,
      "outputs": []
    },
    {
      "cell_type": "markdown",
      "source": [
        "**df5 => manual input from Google Sheet file**"
      ],
      "metadata": {
        "id": "UrEwfKT0lF8a"
      }
    },
    {
      "cell_type": "code",
      "source": [
        "data = [\n",
        "    ['17-11-2020', '18:47:00', 'Olsztyn', '10,00', '00:58:53', '10,19'],\n",
        "    ['19-11-2020', '17:58:00', 'Olsztyn', '9,96', '01:01:05', '9,78'],\n",
        "    ['22-11-2020', '11:09:00', 'Olsztyn', '9,62', '00:59:39', '9,68'],\n",
        "    ['27-11-2020', '15:59:00', 'Olsztyn', '9,86', '01:00:18', '9,81'],\n",
        "    ['29-11-2020', '12:46:00', 'Olsztyn', '7,17', '00:41:30', '10,37']\n",
        "]\n",
        "\n",
        "df = pd.DataFrame(data, columns=['date', 'start_time', 'location', 'distance_km', 'duration', 'speed_avg_kmh'])\n",
        "df['date'] = pd.to_datetime(df['date'], format='%d-%m-%Y')\n",
        "df['distance_km'] = df['distance_km'].str.replace(',', '.').astype(float)\n",
        "df['duration_s'] = pd.to_timedelta(df['duration']).dt.total_seconds()\n",
        "df['sport'] = 'Running'\n",
        "df['source'] = 'Manual input'\n",
        "df['title'] = np.nan\n",
        "df['end_time'] = np.nan\n",
        "df5 = df[['sport', 'source', 'title', 'date', 'start_time', 'end_time', 'distance_km', 'duration_s', 'speed_avg_kmh']]"
      ],
      "metadata": {
        "id": "gPB9Vw7hlFKO"
      },
      "execution_count": null,
      "outputs": []
    },
    {
      "cell_type": "markdown",
      "source": [
        "**df12 => merged df1 with df2**"
      ],
      "metadata": {
        "id": "epfzdOz_gI_p"
      }
    },
    {
      "cell_type": "code",
      "source": [
        "merged_df = pd.merge(df2, df1, on=['date', 'distance_km'], how='left')\n",
        "\n",
        "df12 = pd.DataFrame()\n",
        "df12['sport'] = merged_df['sport_x']\n",
        "df12['source'] = merged_df['source_x'] + ', ' + merged_df['source_y']\n",
        "df12['date'] = merged_df['date']\n",
        "df12['start_time'] = merged_df['start_time']\n",
        "df12['end_time'] = merged_df['end_time']\n",
        "df12['distance_km'] = merged_df['distance_km']\n",
        "df12['duration_s'] = merged_df['duration_s_x'].combine_first(merged_df['duration_s_y'])\n",
        "df12['speed_avg_kmh'] = merged_df['speed_avg_kmh_x'].combine_first(merged_df['speed_avg_kmh_y'])\n",
        "df12['mismatch'] = ''\n",
        "\n",
        "mask_duration_not_nan = ~merged_df['duration_s_x'].isna() & ~merged_df['duration_s_y'].isna()\n",
        "mask_speed_not_nan = ~merged_df['speed_avg_kmh_x'].isna() & ~merged_df['speed_avg_kmh_y'].isna()\n",
        "\n",
        "tolerance_speed = 0.01\n",
        "\n",
        "duration_mismatch = mask_duration_not_nan & (merged_df['duration_s_x'] != merged_df['duration_s_y'])\n",
        "speed_mismatch = mask_speed_not_nan & (abs(merged_df['speed_avg_kmh_x'] - merged_df['speed_avg_kmh_y']) > tolerance_speed)\n",
        "\n",
        "df12.loc[duration_mismatch, 'mismatch'] += 'duration_s; '\n",
        "df12.loc[speed_mismatch, 'mismatch'] += f'speed_avg_kmh, {tolerance_speed}, values ({merged_df.loc[speed_mismatch, \"speed_avg_kmh_x\"].astype(str)}, {merged_df.loc[speed_mismatch, \"speed_avg_kmh_y\"].astype(str)}); '\n",
        "\n",
        "mismatches = df12[df12['mismatch'] != '']\n",
        "display(mismatches)\n",
        "\n",
        "if not mismatches.empty:\n",
        "  display(mismatches)\n",
        "else:\n",
        "  df12 = df12.drop('mismatch', axis=1)\n",
        "  df12['title'] = np.nan"
      ],
      "metadata": {
        "id": "6RljUXNJay6T"
      },
      "execution_count": null,
      "outputs": []
    },
    {
      "cell_type": "markdown",
      "source": [
        "**df123 => merged df12 with df3**"
      ],
      "metadata": {
        "id": "2MCk3TB4hl8n"
      }
    },
    {
      "cell_type": "code",
      "source": [
        "df123 = pd.concat([df12, df3], ignore_index=True)"
      ],
      "metadata": {
        "id": "u43RAKKijCDl"
      },
      "execution_count": null,
      "outputs": []
    },
    {
      "cell_type": "markdown",
      "source": [
        "**df1234 => merged df123 with df4**"
      ],
      "metadata": {
        "id": "F4x7nOq7q7ht"
      }
    },
    {
      "cell_type": "code",
      "source": [
        "df1234 = pd.concat([df123, df4], ignore_index=True)"
      ],
      "metadata": {
        "id": "LeLk2bC7jUrr"
      },
      "execution_count": null,
      "outputs": []
    },
    {
      "cell_type": "markdown",
      "source": [
        "**df12345 => merged df1234 with df5**"
      ],
      "metadata": {
        "id": "iw21N0CGnr-6"
      }
    },
    {
      "cell_type": "code",
      "source": [
        "df12345 = pd.concat([df1234, df5], ignore_index=True)"
      ],
      "metadata": {
        "id": "P42bTDJqnksm"
      },
      "execution_count": null,
      "outputs": []
    },
    {
      "cell_type": "code",
      "source": [
        "df12345['type'] = df12345['title'].apply(lambda x: 'Workout' if pd.isna(x) else 'Sport event')\n",
        "df12345 = df12345[['source', 'sport', 'type', 'title', 'date', 'start_time', 'end_time', 'distance_km', 'duration_s', 'speed_avg_kmh']]\n",
        "df12345 = df12345.sort_values(by='date')\n",
        "\n",
        "selected_dates = df12345.loc[df12345['title'].notna() & ~df12345['title'].str.contains('Bieganie', na=False), 'date']\n",
        "rows_to_remove = df12345[(df12345['date'].isin(selected_dates)) & pd.isna(df12345['source'])]\n",
        "df123456 = df12345.drop(rows_to_remove.index)"
      ],
      "metadata": {
        "id": "PGGAC6XnjLe-"
      },
      "execution_count": null,
      "outputs": []
    },
    {
      "cell_type": "code",
      "source": [
        "selected_dates = ['2018-06-09', '2020-12-17']\n",
        "df1234567 = df123456.drop(df123456[(df123456['date'].isin(selected_dates)) & pd.isna(df123456['source'])].index)"
      ],
      "metadata": {
        "id": "vjsUTl5xt0z8"
      },
      "execution_count": null,
      "outputs": []
    },
    {
      "cell_type": "code",
      "source": [
        "selected_dates = ['2020-01-01','2020-01-11','2020-01-12','2020-01-19', '2020-01-28']\n",
        "df12345678 = df1234567.drop(df1234567[(\n",
        "    (df1234567['date'].isin(selected_dates))\n",
        "    & (df1234567['source'] == 'Garmin Connect')\n",
        "    & ((df1234567['title'].isna()) | (df1234567['title'] == 'Olsztyn Bieg'))\n",
        ")].index)"
      ],
      "metadata": {
        "id": "WmNy05wCwA5y"
      },
      "execution_count": null,
      "outputs": []
    },
    {
      "cell_type": "code",
      "source": [
        "duplicate_rows = df12345678[df12345678.duplicated(subset=['date', 'duration_s', 'distance_km'], keep=False)]\n",
        "\n",
        "if not duplicate_rows.empty:\n",
        "  condition = pd.isna(duplicate_rows['title'])\n",
        "  df123456789 = df12345678[df12345.index.isin(duplicate_rows[condition].index)]\n",
        "else:\n",
        "    df123456789 = df12345678"
      ],
      "metadata": {
        "id": "wjG2330aeq_C"
      },
      "execution_count": null,
      "outputs": []
    },
    {
      "cell_type": "code",
      "source": [
        "df123456789.loc[df123456789['title'] == '43. Maraton Warszawski', 'distance_km'] = 42.20\n",
        "df123456789.loc[df123456789['title'] == '43. Maraton Warszawski', 'duration_s'] = 15849\n",
        "df123456789.loc[df123456789['title'] == '43. Maraton Warszawski', 'source'] = df12345['source'] + ' | Manual input'\n",
        "df123456789['speed_avg_kmh'] = (df123456789['distance_km'] / (df123456789['duration_s'] / 3600)).round(2)"
      ],
      "metadata": {
        "id": "aa5XDDecba1W"
      },
      "execution_count": null,
      "outputs": []
    },
    {
      "cell_type": "code",
      "source": [
        "document_key = google_sheets_link_1.split('/')[-2]\n",
        "worksheet_link = f'https://docs.google.com/spreadsheets/d/{document_key}/export?format=csv'\n",
        "\n",
        "dfgoogle_1 = pd.read_csv(worksheet_link, header=1)\n",
        "dfgoogle_1['data'] = pd.to_datetime(dfgoogle_1['data'], format='%d-%m-%Y')"
      ],
      "metadata": {
        "id": "4A8gXPiHy3B0"
      },
      "execution_count": null,
      "outputs": []
    },
    {
      "cell_type": "code",
      "source": [
        "df_nans = df123456789.loc[df123456789['source'].isna()]\n",
        "merged_df = pd.merge(df_nans, dfgoogle_1[['data', 'nazwa zawodów']], left_on='date', right_on='data', how='inner')\n",
        "merged_df['title'] = merged_df['nazwa zawodów']\n",
        "merged_df['source'] = \"Google Sheets\"\n",
        "merged_df['type'] = \"Sport event\"\n",
        "merged_df = merged_df.drop(['data', 'nazwa zawodów'], axis=1)\n",
        "merged_df\n"
      ],
      "metadata": {
        "id": "kIq7V0sN3VPg"
      },
      "execution_count": null,
      "outputs": []
    },
    {
      "cell_type": "code",
      "source": [
        "dates_to_remove = merged_df[merged_df['date'] != pd.Timestamp('2015-11-07')]['date'].tolist()\n",
        "display(dates_to_remove)\n",
        "df_filtered = df123456789[~df123456789['date'].isin(dates_to_remove)]\n",
        "\n",
        "final = pd.concat([df_filtered, merged_df], ignore_index=True)\n",
        "\n",
        "filtered_df = final[(final['date'].dt.year == 2015) & (final['date'].dt.month == 11)]\n"
      ],
      "metadata": {
        "id": "7Pras5kiMivw"
      },
      "execution_count": null,
      "outputs": []
    },
    {
      "cell_type": "markdown",
      "source": [
        "**Checks**"
      ],
      "metadata": {
        "id": "Fl5Si8ruZtAv"
      }
    },
    {
      "cell_type": "code",
      "source": [
        "x = final.loc[final['type']== 'Sport event']\n",
        "sorted_df = x.sort_values(by='date', ascending=False)\n",
        "display(sorted_df)"
      ],
      "metadata": {
        "id": "eDESsbX5QO_u"
      },
      "execution_count": null,
      "outputs": []
    },
    {
      "cell_type": "code",
      "source": [
        "final['start_time'] = pd.to_datetime(final['start_time'], format='%H:%M:%S').dt.time\n",
        "final['start_time_minutes'] = final['start_time'].apply(lambda x: x.hour * 60 + x.minute if not pd.isnull(x) else None)\n",
        "\n",
        "mask = (final.duplicated(subset=['date', 'start_time'], keep=False) &\n",
        "        (final['start_time_minutes'].diff().abs() <= 61) &\n",
        "        (final['source'] == 'Garmin Connect'))\n",
        "\n",
        "final = final[~mask]"
      ],
      "metadata": {
        "id": "Gw9YCfuxNfTa"
      },
      "execution_count": null,
      "outputs": []
    },
    {
      "cell_type": "code",
      "source": [
        "final['year_month'] = final['date'].dt.to_period('M')\n",
        "\n",
        "result1 = final.groupby('year_month')['distance_km'].sum().reset_index()\n",
        "result1['year_month'] = result1['year_month'].dt.to_timestamp().dt.strftime('%Y-%m')"
      ],
      "metadata": {
        "id": "Ug_7L92TfIcM"
      },
      "execution_count": null,
      "outputs": []
    },
    {
      "cell_type": "code",
      "source": [
        "document_key = google_sheets_link_2.split('/')[-2]\n",
        "worksheet_link = f'https://docs.google.com/spreadsheets/d/{document_key}/export?format=csv'\n",
        "\n",
        "dfgoogle2 = pd.read_csv(worksheet_link, header=1)\n",
        "dfgoogle2 = dfgoogle2.drop(columns=['Unnamed: 0'])\n",
        "dfgoogle2 = dfgoogle2.iloc[:, :-1]\n",
        "dfgoogle2 = dfgoogle2.iloc[:-1,:]\n",
        "dfgoogle2.replace('-', np.nan, inplace=True)"
      ],
      "metadata": {
        "id": "g1EZaV7lglp9"
      },
      "execution_count": null,
      "outputs": []
    },
    {
      "cell_type": "code",
      "source": [
        "result2 = pd.DataFrame(columns=['year_month', 'distance_km'])\n",
        "\n",
        "for index, row in dfgoogle2.iterrows():\n",
        "    for col in dfgoogle2.columns[1:]:\n",
        "        year_month = f'{col}-{index + 1:02d}'\n",
        "        distance_km = row[col]\n",
        "        result2 = pd.concat([result2, pd.DataFrame({'year_month': [year_month], 'distance_km': [distance_km]})], ignore_index=True)\n",
        "\n",
        "result2 = result2.sort_values(by='year_month')\n",
        "result2 = result2[result2['year_month'].apply(lambda x: int(x.split('-')[1])) != 13]\n",
        "\n",
        "result2['distance_km'] = result2['distance_km'].str.replace(',', '.').astype(float)\n",
        "result2['distance_km'] = pd.to_numeric(result2['distance_km'])"
      ],
      "metadata": {
        "id": "ax213reSISL0"
      },
      "execution_count": null,
      "outputs": []
    },
    {
      "cell_type": "code",
      "source": [
        "result1 = result1.rename(columns={'distance_km': 'result1_distance_km'})\n",
        "result2 = result2.rename(columns={'distance_km': 'result2_distance_km'})\n",
        "\n",
        "result = pd.concat([result1.set_index('year_month'), result2.set_index('year_month')], axis=1, join='outer')\n",
        "result['absolute_difference'] = abs(result['result2_distance_km'] - result['result1_distance_km'])\n",
        "filtered_df = result[result['absolute_difference'] > 0.03].copy()\n",
        "display(filtered_df)"
      ],
      "metadata": {
        "id": "hI-PrVi1Jxgc"
      },
      "execution_count": null,
      "outputs": []
    },
    {
      "cell_type": "code",
      "source": [
        "filtered_df = df1[(df1['date'].dt.year == 2015) & (df1['date'].dt.month == 11)]\n",
        "filtered_df"
      ],
      "metadata": {
        "id": "Z-tqpgKq_8GL"
      },
      "execution_count": null,
      "outputs": []
    },
    {
      "cell_type": "code",
      "source": [
        "filtered_df = df2[(df2['date'].dt.year == 2015) & (df2['date'].dt.month == 11)]\n",
        "filtered_df"
      ],
      "metadata": {
        "id": "zIG4NuF7DuaN"
      },
      "execution_count": null,
      "outputs": []
    },
    {
      "cell_type": "code",
      "source": [
        "filtered_df = df123[(df123['date'].dt.year == 2015) & (df123['date'].dt.month == 11)]\n",
        "filtered_df"
      ],
      "metadata": {
        "id": "vADr15pQD31e"
      },
      "execution_count": null,
      "outputs": []
    },
    {
      "cell_type": "code",
      "source": [
        "filtered_df = df1234[(df1234['date'].dt.year == 2015) & (df1234['date'].dt.month == 11)]\n",
        "filtered_df"
      ],
      "metadata": {
        "id": "nbWx2fh0EA6e"
      },
      "execution_count": null,
      "outputs": []
    },
    {
      "cell_type": "code",
      "source": [
        "filtered_df = df12345[(df12345['date'].dt.year == 2015) & (df12345['date'].dt.month == 11)]\n",
        "filtered_df"
      ],
      "metadata": {
        "id": "96FCNmjo3Uh2"
      },
      "execution_count": null,
      "outputs": []
    },
    {
      "cell_type": "code",
      "source": [
        "filtered_df = df123456[(df123456['date'].dt.year == 2015) & (df123456['date'].dt.month == 11)]\n",
        "filtered_df"
      ],
      "metadata": {
        "id": "MTO4ebXNGa0Y"
      },
      "execution_count": null,
      "outputs": []
    },
    {
      "cell_type": "code",
      "source": [
        "filtered_df = df1234567[(df1234567['date'].dt.year == 2015) & (df1234567['date'].dt.month == 11)]\n",
        "filtered_df"
      ],
      "metadata": {
        "id": "r2_9Jk-TH55c"
      },
      "execution_count": null,
      "outputs": []
    },
    {
      "cell_type": "code",
      "source": [
        "filtered_df = df12345678[(df12345678['date'].dt.year == 2015) & (df12345678['date'].dt.month == 11)]\n",
        "filtered_df"
      ],
      "metadata": {
        "id": "s6Z0WVNKH_8Y"
      },
      "execution_count": null,
      "outputs": []
    },
    {
      "cell_type": "code",
      "source": [
        "filtered_df = df123456789[(df123456789['date'].dt.year == 2015) & (df123456789['date'].dt.month == 11)]\n",
        "filtered_df"
      ],
      "metadata": {
        "id": "WjPunJjoIF7w"
      },
      "execution_count": null,
      "outputs": []
    },
    {
      "cell_type": "code",
      "source": [
        "filtered_df = final[(final['date'].dt.year == 2015) & (final['date'].dt.month == 11)]\n",
        "filtered_df"
      ],
      "metadata": {
        "id": "siSX6IRUIaDF"
      },
      "execution_count": null,
      "outputs": []
    },
    {
      "cell_type": "code",
      "source": [
        "excel_file_path = '/content/drive/MyDrive/Colab Notebooks/Tableau/Outputs/workouts.xls'\n",
        "\n",
        "columns_to_drop = ['start_time_minutes', 'year_month']\n",
        "existing_columns = set(df12345.columns)\n",
        "columns_to_drop_exist = set(columns_to_drop).issubset(existing_columns)\n",
        "\n",
        "if columns_to_drop_exist:\n",
        "    df12345 = df12345.drop(columns_to_drop, axis=1)\n",
        "    print(\"Dropped columns:\", columns_to_drop)\n",
        "else:\n",
        "    print(\"Some columns to drop do not exist in the DataFrame.\")\n",
        "!pip install xlwt\n",
        "\n",
        "\n",
        "df12345.to_excel(excel_file_path, index=False)\n",
        "\n"
      ],
      "metadata": {
        "id": "Fw2XTgA7H9eZ"
      },
      "execution_count": null,
      "outputs": []
    }
  ]
}