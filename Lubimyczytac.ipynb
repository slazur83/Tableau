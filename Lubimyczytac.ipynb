{
  "cells": [
    {
      "cell_type": "code",
      "execution_count": null,
      "metadata": {
        "id": "9f3mXgfCMBo5"
      },
      "outputs": [],
      "source": [
        "import pandas as pd\n",
        "import glob\n",
        "import os\n",
        "import datetime as dt\n",
        "import shutil\n",
        "\n",
        "from datetime import datetime\n",
        "from google.colab import files\n",
        "\n",
        "import requests\n",
        "from bs4 import BeautifulSoup\n",
        "import json"
      ]
    },
    {
      "cell_type": "code",
      "source": [
        "class Book:\n",
        "    def __init__(self, name='', author='', rate=0, opinion='', read_date='', shelves=[], average_rate=0, href='', isbn=''):\n",
        "        self.name = name\n",
        "        self.author = author\n",
        "        self.rate = rate\n",
        "        self.opinion = opinion\n",
        "        self.read_date = read_date\n",
        "        self.shelves = shelves\n",
        "        self.average_rate = average_rate\n",
        "        self.href = href\n",
        "        self.isbn = isbn\n",
        "\n",
        "def get_pages_count():\n",
        "    url = 'https://lubimyczytac.pl/profil/ksiazki'\n",
        "    response = requests.get(url)\n",
        "    soup = BeautifulSoup(response.text, 'html.parser')\n",
        "    pages_info = soup.select_one('.paginationList__info span').get_text()\n",
        "    pages_count = int(pages_info.split()[-1])\n",
        "    return pages_count\n",
        "\n",
        "def get_books_details(hrefs):\n",
        "    books_details = {}\n",
        "    for href in hrefs:\n",
        "        response = requests.get(href)\n",
        "        soup = BeautifulSoup(response.text, 'html.parser')\n",
        "        isbn = soup.find('meta', property='books:isbn')['content']\n",
        "        author = soup.find('meta', property='books:author')['content']\n",
        "        rating = int(soup.find('meta', property='books:rating:value')['content'])\n",
        "        books_details[href] = {'isbn': isbn, 'author': author, 'rating': rating, 'href': href}\n",
        "    return books_details\n",
        "\n",
        "def import_books():\n",
        "    pages_count = get_pages_count()\n",
        "    obj_id = input(\"Enter your object ID: \")\n",
        "\n",
        "    books = {}\n",
        "    for page_num in range(1, pages_count + 1):\n",
        "        url = f'https://lubimyczytac.pl/profil/ksiazki?page={page_num}&listId=booksFilteredList&showFirstLetter=0&paginatorType=Standard&porzadek=malejaco&own=1&objectId={obj_id}&own=1&paginatorType=Standard'\n",
        "        response = requests.get(url)\n",
        "        soup = BeautifulSoup(response.json()['data']['content'], 'html.parser')\n",
        "\n",
        "        book_nodes = soup.select('.authorAllBooks__single')\n",
        "        for book_node in book_nodes:\n",
        "            title = book_node.select_one('.authorAllBooks__singleTextTitle').text.strip()\n",
        "            href = book_node.select_one('.authorAllBooks__singleTextTitle')['href']\n",
        "            author = book_node.select_one('.authorAllBooks__singleTextAuthor').get_text(strip=True)\n",
        "            shelves = [shelf.get_text(strip=True) for shelf in book_node.select('.authorAllBooks__singleTextShelfRight a')]\n",
        "            rates = [rate.get_text(strip=True) for rate in book_node.select('.listLibrary__ratingStarsNumber')]\n",
        "            try:\n",
        "                opinion = book_node.select_one('.comment-cloud__body .p-collapsed').text.strip()\n",
        "            except AttributeError:\n",
        "                opinion = ''\n",
        "            try:\n",
        "                read_date = book_node.select_one(\".authorAllBooks__singleImg div\").find_all('div')[1].text.strip()\n",
        "            except AttributeError:\n",
        "                read_date = ''\n",
        "            books[href] = Book(title, author, int(rates[0]), opinion, read_date, shelves, int(rates[1]), href)\n",
        "\n",
        "    books_details = get_books_details(books.keys())\n",
        "    for href, details in books_details.items():\n",
        "        books[href].isbn = details['isbn']\n",
        "\n",
        "    return list(books.values())\n",
        "\n",
        "if __name__ == \"__main__\":\n",
        "    books_data = import_books()\n",
        "    with open('lc_books.json', 'w', encoding='utf-8') as json_file:\n",
        "        json.dump(books_data, json_file, ensure_ascii=False, indent=4)\n",
        "    print(\"Data has been exported to 'lc_books.json'.\")\n"
      ],
      "metadata": {
        "id": "bYBKJIMW7ahT"
      },
      "execution_count": null,
      "outputs": []
    },
    {
      "cell_type": "code",
      "execution_count": null,
      "metadata": {
        "id": "ghrcQVZArzSz"
      },
      "outputs": [],
      "source": [
        "uploaded_filename = 'lc_books.json'\n",
        "\n",
        "# Check if a file with the same name exists and delete it if it exists\n",
        "if os.path.exists(uploaded_filename):\n",
        "    creation_time = os.path.getctime(uploaded_filename)\n",
        "    creation_date = dt.datetime.fromtimestamp(creation_time).strftime('%Y-%m-%d %H:%M:%S')\n",
        "\n",
        "    os.remove(uploaded_filename)\n",
        "    print(f\"Deleted the existing file {uploaded_filename} created on {creation_date}\")\n",
        "\n",
        "# Upload a new version of the file\n",
        "uploaded = files.upload()\n",
        "\n",
        "lc_books_path = uploaded_filename\n",
        "\n",
        "lc_books = f'/content/drive/MyDrive/Dane z aplikacji/Lubimyczytac/{uploaded_filename}'\n",
        "shutil.copy(lc_books_path, lc_books)\n",
        "\n",
        "print(f\"The file {uploaded_filename} has been moved to appropriate folder in Google Drive.\")\n"
      ]
    },
    {
      "cell_type": "code",
      "execution_count": null,
      "metadata": {
        "id": "NeXn1zUqH_Ff"
      },
      "outputs": [],
      "source": [
        "df = pd.read_json(lc_books)\n",
        "df.columns"
      ]
    },
    {
      "cell_type": "code",
      "execution_count": null,
      "metadata": {
        "id": "rIpmI_i9LqfH"
      },
      "outputs": [],
      "source": [
        "import pandas as pd\n",
        "import matplotlib.pyplot as plt\n",
        "\n",
        "# Import data from a JSON file\n",
        "df = pd.read_json(lc_books)\n",
        "df = df[df['shelves'] != '[Chcę przeczytać]']\n",
        "\n",
        "# Convert the 'read_date' column to a date format\n",
        "df['read_date'] = pd.to_datetime(df['read_date'])\n",
        "\n",
        "# General statistics\n",
        "total_books_read = len(df)\n",
        "#overall_average_rating = df['rate'].mean()\n",
        "\n",
        "# Statistics for each year\n",
        "df['year'] = df['read_date'].dt.year\n",
        "books_read_per_year = df['year'].value_counts().sort_index()\n",
        "yearly_average_rating = df.groupby('year')['rate'].mean()\n",
        "\n",
        "# Top 10 most frequently appearing authors\n",
        "top_10_authors = df['author'].value_counts().head(10)\n",
        "\n",
        "# Plot the number of books read per year\n",
        "books_read_per_year.plot(kind='bar', figsize=(10, 6))\n",
        "plt.title('Number of Books Read Each Year')\n",
        "plt.xlabel('Year')\n",
        "plt.ylabel('Number of Books')\n",
        "plt.show()\n",
        "\n",
        "# Plot the yearly average rating\n",
        "yearly_average_rating.plot(kind='line', figsize=(10, 6))\n",
        "plt.title('Yearly Average Rating of Read Books')\n",
        "plt.xlabel('Year')\n",
        "plt.ylabel('Average Rating')\n",
        "plt.show()\n",
        "\n",
        "# Display the results\n",
        "print(f'Total books read: {total_books_read}')\n",
        "#print(f'Overall average rating: {overall_average_rating:.2f}')\n",
        "print('\\nNumber of books read per year:')\n",
        "print(books_read_per_year)\n",
        "print('\\nYearly average rating:')\n",
        "print(yearly_average_rating)\n",
        "print('\\nTop 10 authors:')\n",
        "print(top_10_authors)\n"
      ]
    }
  ],
  "metadata": {
    "colab": {
      "provenance": [],
      "toc_visible": true,
      "mount_file_id": "1CTP1bvaEAckpRXlJ0lC-rOG7gwEm84U1",
      "authorship_tag": "ABX9TyMyaPDc25mJXtYUp/NEd6Oq"
    },
    "kernelspec": {
      "display_name": "Python 3",
      "name": "python3"
    },
    "language_info": {
      "name": "python"
    }
  },
  "nbformat": 4,
  "nbformat_minor": 0
}