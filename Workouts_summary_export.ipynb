{
  "nbformat": 4,
  "nbformat_minor": 0,
  "metadata": {
    "colab": {
      "provenance": [],
      "mount_file_id": "12B9bA3LKgN2-D6pDfEAwYP9Y2LhCFZo_",
      "authorship_tag": "ABX9TyPzoebO/iYWFRqoZ/xHZg8s"
    },
    "kernelspec": {
      "name": "python3",
      "display_name": "Python 3"
    },
    "language_info": {
      "name": "python"
    }
  },
  "cells": [
    {
      "cell_type": "code",
      "execution_count": 23,
      "metadata": {
        "id": "ZYS-ofWD4-7d"
      },
      "outputs": [],
      "source": [
        "import pandas as pd\n",
        "import numpy as np\n",
        "import requests\n",
        "import json\n",
        "\n",
        "from google.colab import drive\n",
        "from io import StringIO"
      ]
    },
    {
      "cell_type": "code",
      "source": [
        "drive.mount('/content/drive')\n",
        "config_file_path = \"/content/drive/MyDrive/Skrypty/config.json\"\n",
        "\n",
        "with open(config_file_path, 'r') as config_file:\n",
        "    config = json.load(config_file)\n",
        "\n",
        "workouts_summary_input = config['workouts_summary_input']\n",
        "workouts_summary_output = config['workouts_summary_output']\n",
        "\n",
        "document_key = workouts_summary_input.split('/')[-2]\n",
        "url_running = f'https://docs.google.com/spreadsheets/d/{document_key}/export?format=csv&id={document_key}&gid=0'\n",
        "url_cycling = f'https://docs.google.com/spreadsheets/d/{document_key}/export?format=csv&id={document_key}&gid=525762321'"
      ],
      "metadata": {
        "id": "OeB0RPSM5JqS"
      },
      "execution_count": null,
      "outputs": []
    },
    {
      "cell_type": "code",
      "source": [
        "running_response = requests.get(url_running)\n",
        "running_response_content = running_response.content.decode('utf-8')\n",
        "data = StringIO(running_response_content)\n",
        "df = pd.read_csv(data, header=1)\n",
        "\n",
        "mapped_data = []\n",
        "for index, row in df.iterrows():\n",
        "    for col in df.columns[1:]:\n",
        "        if pd.notna(row[col]) and col != 'średnia' and col != 'miesiąc / rok' and row['miesiąc / rok'] != 'razem':\n",
        "            mapped_data.append({\n",
        "                'rok': col,\n",
        "                'miesiąc': row['miesiąc / rok'],\n",
        "                'dystans': row[col]\n",
        "            })\n",
        "\n",
        "running_df = pd.DataFrame(mapped_data)\n",
        "running_df['type'] = 'Running'"
      ],
      "metadata": {
        "id": "x1RB53EIC6rU"
      },
      "execution_count": 25,
      "outputs": []
    },
    {
      "cell_type": "code",
      "source": [
        "cycling_response = requests.get(url_cycling)\n",
        "cycling_response_content = cycling_response.content.decode('utf-8')\n",
        "data = StringIO(cycling_response_content)\n",
        "df = pd.read_csv(data, header=1)\n",
        "\n",
        "mapped_data = []\n",
        "for index, row in df.iterrows():\n",
        "    for col in df.columns[1:]:\n",
        "        if pd.notna(row[col]) and col != 'średnia' and col != 'miesiąc / rok' and row['miesiąc / rok'] != 'razem':\n",
        "            mapped_data.append({\n",
        "                'rok': col,\n",
        "                'miesiąc': row['miesiąc / rok'],\n",
        "                'dystans': row[col]\n",
        "            })\n",
        "\n",
        "cycling_df = pd.DataFrame(mapped_data)\n",
        "cycling_df['type'] = 'Cycling'"
      ],
      "metadata": {
        "id": "f4IbBhPPGNKw"
      },
      "execution_count": 26,
      "outputs": []
    },
    {
      "cell_type": "code",
      "source": [
        "workouts_df = pd.concat([running_df, cycling_df], ignore_index=True)\n",
        "\n",
        "month_dict = {\n",
        "    'styczeń': '01', 'luty': '02', 'marzec': '03', 'kwiecień': '04',\n",
        "    'maj': '05', 'czerwiec': '06', 'lipiec': '07', 'sierpień': '08',\n",
        "    'wrzesień': '09', 'październik': '10', 'listopad': '11', 'grudzień': '12'}\n",
        "\n",
        "workouts_df['month'] = workouts_df['miesiąc'].map(month_dict)\n",
        "workouts_df['date'] = pd.to_datetime(workouts_df['rok'].astype(str) + '-' + workouts_df['miesiąc'].astype(str), format='%Y-%m', errors='coerce')\n",
        "workouts_df.sort_values(by=['rok', 'month'], inplace=True)\n",
        "workouts_df.drop(columns=['date', 'month'], inplace=True)\n",
        "workouts_df['dystans'].replace('-', np.nan, inplace=True)"
      ],
      "metadata": {
        "id": "qFQN-us0ZS4h"
      },
      "execution_count": 27,
      "outputs": []
    },
    {
      "cell_type": "code",
      "source": [
        "workouts_df.to_excel(workouts_summary_output, index=False)"
      ],
      "metadata": {
        "id": "CTm0Qu47WALn"
      },
      "execution_count": 28,
      "outputs": []
    }
  ]
}