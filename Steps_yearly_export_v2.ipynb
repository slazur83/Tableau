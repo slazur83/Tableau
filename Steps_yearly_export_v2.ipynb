{
  "cells": [
    {
      "cell_type": "markdown",
      "metadata": {
        "id": "gMAdL03tnN6a"
      },
      "source": [
        "**Data import**"
      ]
    },
    {
      "cell_type": "code",
      "execution_count": null,
      "metadata": {
        "id": "GY5IvlcVYfR3"
      },
      "outputs": [],
      "source": [
        "# Import libraries\n",
        "import pandas as pd\n",
        "import numpy as np\n",
        "import seaborn as sns\n",
        "import matplotlib as mpl\n",
        "import datetime as dt\n",
        "import glob\n",
        "import os\n",
        "import calendar\n",
        "import datetime\n",
        "\n",
        "%matplotlib inline"
      ]
    },
    {
      "cell_type": "code",
      "execution_count": null,
      "metadata": {
        "id": "NDawQXWopLBu"
      },
      "outputs": [],
      "source": [
        "year = input('Enter a year:\\n')"
      ]
    },
    {
      "cell_type": "code",
      "execution_count": null,
      "metadata": {
        "id": "GAdnXOkjv3n1"
      },
      "outputs": [],
      "source": [
        "# Importing and merging the files\n",
        "joined_files = os.path.join(f\"//content/drive/MyDrive/Dane z aplikacji/Garmin Connect/Kroki/Data_{year}\", \"*.csv\")"
      ]
    },
    {
      "cell_type": "code",
      "execution_count": null,
      "metadata": {
        "id": "Hcu2JdPNuO-h"
      },
      "outputs": [],
      "source": [
        "# A list of all joined files\n",
        "joined_list = glob.glob(joined_files)\n",
        "\n",
        "# First version of the dataframe\n",
        "steps = pd.concat(map(pd.read_csv, joined_list), ignore_index=True)\n",
        "\n",
        "#Variables\n",
        "new_order = ['January', 'February', 'March', 'April', 'May', 'June', 'July', 'August', 'September', 'October', 'November', 'December']"
      ]
    },
    {
      "cell_type": "markdown",
      "metadata": {
        "id": "6jOkRp7RnXiO"
      },
      "source": [
        "**Data check**"
      ]
    },
    {
      "cell_type": "code",
      "execution_count": null,
      "metadata": {
        "id": "lxsuPRl0nz8A"
      },
      "outputs": [],
      "source": [
        "# Checking the dimensions of the dataframe\n",
        "steps.shape"
      ]
    },
    {
      "cell_type": "code",
      "execution_count": null,
      "metadata": {
        "id": "RLrTEXqhq902",
        "collapsed": true
      },
      "outputs": [],
      "source": [
        "# Checking the types of data\n",
        "steps.dtypes"
      ]
    },
    {
      "cell_type": "code",
      "source": [
        "steps.sample(5)"
      ],
      "metadata": {
        "id": "BJg8h1en2R0r"
      },
      "execution_count": null,
      "outputs": []
    },
    {
      "cell_type": "code",
      "execution_count": null,
      "metadata": {
        "id": "1b-cqplcAE2j"
      },
      "outputs": [],
      "source": [
        "steps.head(10)"
      ]
    },
    {
      "cell_type": "code",
      "source": [
        "# Deleting the last column in the dataframe\n",
        "steps = steps.iloc[: , :-1]\n",
        "steps.columns"
      ],
      "metadata": {
        "id": "q-bu9jkvRGc2"
      },
      "execution_count": null,
      "outputs": []
    },
    {
      "cell_type": "code",
      "execution_count": null,
      "metadata": {
        "id": "iZlBC_WzApaY"
      },
      "outputs": [],
      "source": [
        "# Deleting rows from previous year\n",
        "previous_year = str(int(year)-1)\n",
        "n = len(steps[steps.iloc[:, 0].str.endswith(previous_year)])\n",
        "steps = steps.iloc[n:]\n",
        "print(f\"Deleted {n} rows.\")"
      ]
    },
    {
      "cell_type": "markdown",
      "metadata": {
        "id": "4rcUF8uYrsCX"
      },
      "source": [
        "**Data cleaning**"
      ]
    },
    {
      "cell_type": "code",
      "execution_count": null,
      "metadata": {
        "id": "IAwd3-8gySbh"
      },
      "outputs": [],
      "source": [
        "# Renaming the column names\n",
        "steps.rename(columns = {'Unnamed: 0':'Date','Bieżąca':'Steps'}, inplace = True)\n",
        "steps.head()"
      ]
    },
    {
      "cell_type": "code",
      "execution_count": null,
      "metadata": {
        "id": "YAwKVRJTmpBb"
      },
      "outputs": [],
      "source": [
        "steps['Date'] = steps['Date'].astype('str')\n",
        "steps['Date'] = steps['Date'].str.strip()\n",
        "steps['Day'] = ''\n",
        "steps['Month'] = ''\n",
        "steps['Year'] = year\n",
        "\n",
        "\n",
        "for index, row in steps.iterrows():\n",
        "    date_str = row['Date']\n",
        "\n",
        "    if '/' in date_str:\n",
        "        day, month, year = date_str.split('/')\n",
        "        new_date = f\"{year.zfill(4)}-{month.zfill(2)}-{day.zfill(2)}\"\n",
        "\n",
        "        steps.at[index, 'Day'] = day.zfill(2)\n",
        "        steps.at[index, 'Month'] = month\n",
        "        steps.at[index, 'Year'] = year.zfill(4)\n",
        "    else:\n",
        "\n",
        "        steps.at[index, 'Day'] = '01'\n",
        "        steps.at[index, 'Month'] = '01'\n",
        "        steps.at[index, 'Year'] = '2023'\n",
        "\n",
        "    steps.at[index, 'New_date'] = new_date\n",
        "\n",
        "\n",
        "print(steps.head())"
      ]
    },
    {
      "cell_type": "code",
      "execution_count": null,
      "metadata": {
        "id": "Gfd9ooJgY91c"
      },
      "outputs": [],
      "source": [
        "# Checking for duplicated dates\n",
        "check = steps[steps.duplicated(['New_date'], keep=False)]\n",
        "\n",
        "if check.empty:\n",
        "  duplicates = False\n",
        "  print(\"There are no duplicates.\")\n",
        "else:\n",
        "  duplicates = True\n",
        "  print(\"There are duplicates.\")\n"
      ]
    },
    {
      "cell_type": "code",
      "execution_count": null,
      "metadata": {
        "id": "hEmZWJuhJ9LX"
      },
      "outputs": [],
      "source": [
        "if duplicates:\n",
        "  steps = steps.drop_duplicates(keep='first')\n",
        "  steps = steps.sort_values(['New_date', 'Steps'], ascending=[True, True])\n",
        "  steps = steps.drop_duplicates(subset=['New_date'], keep='last')\n",
        "  steps = steps.sort_values(['New_date'], ascending=[True])\n",
        "  check = steps[steps.duplicated(['New_date'], keep=False)]\n",
        "  if check.empty:\n",
        "    duplicates = False\n",
        "    print(\"There are no duplicates.\")\n",
        "  else:\n",
        "    duplicates = True\n",
        "    print(\"There are still duplicates.\")"
      ]
    },
    {
      "cell_type": "code",
      "execution_count": null,
      "metadata": {
        "id": "ZoqC-J09LPXr"
      },
      "outputs": [],
      "source": [
        "steps.tail()"
      ]
    },
    {
      "cell_type": "code",
      "source": [
        "# Remove rows from current month\n",
        "current_date = pd.Timestamp.now()\n",
        "steps['Date'] = pd.to_datetime(steps['Date'], format='%d/%m/%Y')\n",
        "steps = steps[~((steps['Date'].dt.month == current_date.month) & (steps['Date'].dt.year == current_date.year))]\n",
        "steps.tail()"
      ],
      "metadata": {
        "id": "D7MUOyh6R-ie"
      },
      "execution_count": null,
      "outputs": []
    },
    {
      "cell_type": "code",
      "execution_count": null,
      "metadata": {
        "id": "FFFUGR3MvgWE"
      },
      "outputs": [],
      "source": [
        "x = (steps[steps.iloc[:, 1] == 0])\n",
        "print(f'There are {len(x)} null values')\n",
        "if len(x) != 0:\n",
        "  steps = steps.drop(steps[steps.iloc[:, 1] == 0].index)\n",
        "  display(steps)"
      ]
    },
    {
      "cell_type": "code",
      "execution_count": null,
      "metadata": {
        "id": "kB5R2ItKXTbE"
      },
      "outputs": [],
      "source": [
        "# Sorting dataframe by New_date column values\n",
        "steps = steps.sort_values(by=\"New_date\")\n",
        "steps.tail(10)"
      ]
    },
    {
      "cell_type": "code",
      "execution_count": null,
      "metadata": {
        "id": "D-Hnreo3gE7W"
      },
      "outputs": [],
      "source": [
        "# Changing type of New_data column\n",
        "steps['New_date'] = [dt.datetime.strptime(x,\"%Y-%m-%d\") for x in steps['New_date']]\n",
        "print(\"Type of New_data column has been changed.\")"
      ]
    },
    {
      "cell_type": "code",
      "execution_count": null,
      "metadata": {
        "id": "joiUGQqbmbEO"
      },
      "outputs": [],
      "source": [
        "# Creating new columns: Weekday and Month and reseting the index\n",
        "steps['Weekday'] = steps['New_date'].dt.day_name()\n",
        "steps['Month'] = steps['New_date'].dt.month_name()\n",
        "steps.reset_index(inplace=True)\n",
        "steps.head()"
      ]
    },
    {
      "cell_type": "code",
      "source": [
        "def get_season(date):\n",
        "    month = date.month\n",
        "    day = date.day\n",
        "    if (month == 12 and day >= 21) or (month == 1) or (month == 2) or (month == 3 and day < 21):\n",
        "        return 'Winter'\n",
        "    elif (month == 3 and day >= 21) or (month == 4) or (month == 5) or (month == 6 and day < 21):\n",
        "        return 'Spring'\n",
        "    elif (month == 6 and day >= 21) or (month == 7) or (month == 8) or (month == 9 and day < 23):\n",
        "        return 'Summer'\n",
        "    elif (month == 9 and day >= 23) or (month == 10) or (month == 11) or (month == 12 and day < 21):\n",
        "        return 'Autumn'\n",
        "    else:\n",
        "        return 'Unknown'\n",
        "\n",
        "steps['Season'] = steps['New_date'].apply(get_season)"
      ],
      "metadata": {
        "id": "HyjxT1dKWIHz"
      },
      "execution_count": null,
      "outputs": []
    },
    {
      "cell_type": "code",
      "source": [
        "steps.tail()"
      ],
      "metadata": {
        "id": "32gRL-KRWUjw"
      },
      "execution_count": null,
      "outputs": []
    },
    {
      "cell_type": "code",
      "execution_count": null,
      "metadata": {
        "id": "-yn4byKOIhWK"
      },
      "outputs": [],
      "source": [
        "steps.head()"
      ]
    },
    {
      "cell_type": "code",
      "execution_count": null,
      "metadata": {
        "id": "VOKlRukdnSee"
      },
      "outputs": [],
      "source": [
        "# Reordering the columns\n",
        "df = steps[['New_date', 'Month', 'Weekday','Season','Steps']]\n",
        "df.head()"
      ]
    },
    {
      "cell_type": "code",
      "execution_count": null,
      "metadata": {
        "id": "LQIhdBJvz60h"
      },
      "outputs": [],
      "source": [
        "# Checking if the length of dataframe is appropriate\n",
        "\n",
        "cy = datetime.date.today().year\n",
        "cdy = (df['New_date'].iloc[-1]).timetuple().tm_yday\n",
        "\n",
        "if cy != 2023:\n",
        "  n = 365\n",
        "  if n-len(df) == 0:\n",
        "    print (\"Valid number of days.\")\n",
        "  else:\n",
        "    print (\"Invalid number of days.\")\n",
        "else:\n",
        "  if cdy == len(df):\n",
        "    print (\"Valid number of days.\")\n",
        "  else:\n",
        "    print (\"Invalid number of days.\")"
      ]
    },
    {
      "cell_type": "code",
      "execution_count": null,
      "metadata": {
        "id": "CN81jLYX1ItA"
      },
      "outputs": [],
      "source": [
        "df.to_csv(f'/content/drive/MyDrive/Skrypty/Tableau/Outputs/Steps_export_{year}.csv')\n",
        "print(\"The file has been exported to the intended location.\")"
      ]
    },
    {
      "cell_type": "code",
      "execution_count": null,
      "metadata": {
        "id": "_W7AO7z07f_D"
      },
      "outputs": [],
      "source": [
        "# Annual statistics (sum, mean, max, min) and the calculation of goal achievement\n",
        "x = df[\"Steps\"]\n",
        "\n",
        "x1 = str(x.sum())\n",
        "x2 = str(round(x.mean()))\n",
        "x3 = str(x.max())\n",
        "x4 = str(x.min())\n",
        "\n",
        "goal = df['Steps']> 10000\n",
        "goal = df[goal]\n",
        "res = len(goal.index)\n",
        "x5 = \"{:.0%}\".format(res/365)\n",
        "\n",
        "print(\n",
        "f\"In {year} I did:\\n\\n\" + x1 +\n",
        "\" - total steps,\\n\" + x2 +\n",
        "\" - average,\\n\" + x3 +\n",
        "\" - max in a day,\\n\" + x4 +\n",
        "\" - min in a day.\\n\\nMoreover I had \" +\n",
        "str(res) + ' days when the goal of 10 000 steps per day was achieved and it constitutes ' +\n",
        "x5 +'.')"
      ]
    }
  ],
  "metadata": {
    "colab": {
      "provenance": [],
      "mount_file_id": "1hJeWnWYJnbE6fqcB1pYQ2Y1jRenIY0sU",
      "authorship_tag": "ABX9TyOrQp6bBWSzHRq6j7iKylS9"
    },
    "kernelspec": {
      "display_name": "Python 3",
      "name": "python3"
    },
    "language_info": {
      "name": "python"
    }
  },
  "nbformat": 4,
  "nbformat_minor": 0
}