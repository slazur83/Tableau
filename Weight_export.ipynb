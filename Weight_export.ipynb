{
  "nbformat": 4,
  "nbformat_minor": 0,
  "metadata": {
    "colab": {
      "provenance": [],
      "mount_file_id": "1tWcfPloR3QSmltaxSdzLkWwj8o16psbH",
      "authorship_tag": "ABX9TyNa/A+WFIOYLKGbJqlP6QPy",
      "include_colab_link": true
    },
    "kernelspec": {
      "name": "python3",
      "display_name": "Python 3"
    },
    "language_info": {
      "name": "python"
    }
  },
  "cells": [
    {
      "cell_type": "markdown",
      "metadata": {
        "id": "view-in-github",
        "colab_type": "text"
      },
      "source": [
        "<a href=\"https://colab.research.google.com/github/slazur83/Tableau/blob/main/Weight_export.ipynb\" target=\"_parent\"><img src=\"https://colab.research.google.com/assets/colab-badge.svg\" alt=\"Open In Colab\"/></a>"
      ]
    },
    {
      "cell_type": "code",
      "execution_count": 205,
      "metadata": {
        "id": "Ezt_LhmaIgwX"
      },
      "outputs": [],
      "source": [
        "import pandas as pd\n",
        "import glob\n",
        "import os\n",
        "import json\n",
        "import numpy as np\n",
        "from datetime import datetime\n",
        "from google.colab import userdata\n",
        "from google.colab import files"
      ]
    },
    {
      "cell_type": "code",
      "source": [
        "config_file_path = \"/content/drive/MyDrive/Colab Notebooks/config.json\"\n",
        "\n",
        "with open(config_file_path, 'r') as config_file:\n",
        "    config = json.load(config_file)\n",
        "\n",
        "google_sheets_moja_waga = config['google_sheets_moja_waga']\n",
        "document_key = google_sheets_moja_waga.split('/')[-2]"
      ],
      "metadata": {
        "id": "PV4RyYwwhHx7"
      },
      "execution_count": 206,
      "outputs": []
    },
    {
      "cell_type": "markdown",
      "source": [
        "**Google Sheets**"
      ],
      "metadata": {
        "id": "RGoUlRGNOts6"
      }
    },
    {
      "cell_type": "code",
      "source": [
        "# data from 2020\n",
        "google_sheets_moja_waga_2020 = f'https://docs.google.com/spreadsheets/d/{document_key}/export?format=csv&gid=0'\n",
        "df1 = pd.read_csv(google_sheets_moja_waga_2020, header=1)"
      ],
      "metadata": {
        "id": "f13QXzgJgvFR"
      },
      "execution_count": 215,
      "outputs": []
    },
    {
      "cell_type": "code",
      "source": [
        "# data from 2017\n",
        "google_sheets_moja_waga_2017 = f'https://docs.google.com/spreadsheets/d/{document_key}/export?format=csv&gid=2116961746'\n",
        "df2 = pd.read_csv(google_sheets_moja_waga_2017, header=1)\n",
        "df2['data'] = pd.to_datetime(df2['data'], format='%m/%d/%Y').dt.strftime('%Y-%m-%d')\n",
        "df2['waga [kg]'] = df2['waga [kg]'].str.replace(' kg', '').astype(float)"
      ],
      "metadata": {
        "id": "IBCIcH7zhlnv"
      },
      "execution_count": 216,
      "outputs": []
    },
    {
      "cell_type": "code",
      "source": [
        "# data from 2016\n",
        "google_sheets_moja_waga_2016 = f'https://docs.google.com/spreadsheets/d/{document_key}/export?format=csv&gid=552331991'\n",
        "df3 = pd.read_csv(google_sheets_moja_waga_2016, header=1)\n",
        "df3['data'] = pd.to_datetime(df3['data'], format='%m/%d/%Y').dt.strftime('%Y-%m-%d')\n",
        "df3['waga [kg]'] = df3['waga [kg]'].str.replace(' kg', '').str.strip().astype(float)"
      ],
      "metadata": {
        "id": "3kIhqtBvmABK"
      },
      "execution_count": 217,
      "outputs": []
    },
    {
      "cell_type": "code",
      "source": [
        "df = pd.concat([df1, df2, df3], ignore_index=True)"
      ],
      "metadata": {
        "id": "OPxxXEGRi11z"
      },
      "execution_count": 218,
      "outputs": []
    },
    {
      "cell_type": "code",
      "source": [
        "df = df.iloc[1:, 1:]\n",
        "df = df.rename(columns=dict(zip(df.columns, ['Date', 'Time', 'Weight'])))\n",
        "df.replace('-', np.nan, inplace=True)"
      ],
      "metadata": {
        "id": "z8XUCCDtQO76"
      },
      "execution_count": 219,
      "outputs": []
    },
    {
      "cell_type": "code",
      "source": [
        "df = df.dropna(how='all')\n",
        "duplicated_rows = df.duplicated(keep=False)\n",
        "\n",
        "if duplicated_rows.sum() > 0:\n",
        "    print(f\"Found {duplicated_rows.sum()} duplicated rows.\")\n",
        "    duplicated_sorted = df[duplicated_rows].sort_values(by='Date')\n",
        "    print(duplicated_sorted)\n",
        "    df = df.drop_duplicates()\n",
        "    print(f\"Removed duplicates.\")"
      ],
      "metadata": {
        "id": "f0XeHlU-eTL3"
      },
      "execution_count": 220,
      "outputs": []
    },
    {
      "cell_type": "code",
      "source": [
        "df_google_sheets = df.sort_values(by='Date')"
      ],
      "metadata": {
        "id": "i6MfC1Gdjvmj"
      },
      "execution_count": 221,
      "outputs": []
    },
    {
      "cell_type": "code",
      "source": [
        "df_google_sheets"
      ],
      "metadata": {
        "colab": {
          "base_uri": "https://localhost:8080/",
          "height": 424
        },
        "id": "0jlY8MEYuKbu",
        "outputId": "cd997be4-a5a1-4fab-a21c-01c0cfe3d66f"
      },
      "execution_count": 222,
      "outputs": [
        {
          "output_type": "execute_result",
          "data": {
            "text/plain": [
              "          Date   Time Weight\n",
              "59  2016-01-03  08:15   76.1\n",
              "60  2016-01-10  08:20   74.9\n",
              "61  2016-01-17  08:30   76.1\n",
              "62  2016-01-24  07:45   75.5\n",
              "63  2016-01-31  07:15   75.7\n",
              "..         ...    ...    ...\n",
              "46  2020-11-01  07:10   79,3\n",
              "47  2020-11-08  07:15   79,3\n",
              "48  2020-11-15  07:55   78,8\n",
              "49  2020-11-22  07:30   79,5\n",
              "50  2020-11-29  07:40   79,2\n",
              "\n",
              "[87 rows x 3 columns]"
            ],
            "text/html": [
              "\n",
              "  <div id=\"df-ba0fd82b-efeb-4fb5-9bf5-b7af99f972fe\" class=\"colab-df-container\">\n",
              "    <div>\n",
              "<style scoped>\n",
              "    .dataframe tbody tr th:only-of-type {\n",
              "        vertical-align: middle;\n",
              "    }\n",
              "\n",
              "    .dataframe tbody tr th {\n",
              "        vertical-align: top;\n",
              "    }\n",
              "\n",
              "    .dataframe thead th {\n",
              "        text-align: right;\n",
              "    }\n",
              "</style>\n",
              "<table border=\"1\" class=\"dataframe\">\n",
              "  <thead>\n",
              "    <tr style=\"text-align: right;\">\n",
              "      <th></th>\n",
              "      <th>Date</th>\n",
              "      <th>Time</th>\n",
              "      <th>Weight</th>\n",
              "    </tr>\n",
              "  </thead>\n",
              "  <tbody>\n",
              "    <tr>\n",
              "      <th>59</th>\n",
              "      <td>2016-01-03</td>\n",
              "      <td>08:15</td>\n",
              "      <td>76.1</td>\n",
              "    </tr>\n",
              "    <tr>\n",
              "      <th>60</th>\n",
              "      <td>2016-01-10</td>\n",
              "      <td>08:20</td>\n",
              "      <td>74.9</td>\n",
              "    </tr>\n",
              "    <tr>\n",
              "      <th>61</th>\n",
              "      <td>2016-01-17</td>\n",
              "      <td>08:30</td>\n",
              "      <td>76.1</td>\n",
              "    </tr>\n",
              "    <tr>\n",
              "      <th>62</th>\n",
              "      <td>2016-01-24</td>\n",
              "      <td>07:45</td>\n",
              "      <td>75.5</td>\n",
              "    </tr>\n",
              "    <tr>\n",
              "      <th>63</th>\n",
              "      <td>2016-01-31</td>\n",
              "      <td>07:15</td>\n",
              "      <td>75.7</td>\n",
              "    </tr>\n",
              "    <tr>\n",
              "      <th>...</th>\n",
              "      <td>...</td>\n",
              "      <td>...</td>\n",
              "      <td>...</td>\n",
              "    </tr>\n",
              "    <tr>\n",
              "      <th>46</th>\n",
              "      <td>2020-11-01</td>\n",
              "      <td>07:10</td>\n",
              "      <td>79,3</td>\n",
              "    </tr>\n",
              "    <tr>\n",
              "      <th>47</th>\n",
              "      <td>2020-11-08</td>\n",
              "      <td>07:15</td>\n",
              "      <td>79,3</td>\n",
              "    </tr>\n",
              "    <tr>\n",
              "      <th>48</th>\n",
              "      <td>2020-11-15</td>\n",
              "      <td>07:55</td>\n",
              "      <td>78,8</td>\n",
              "    </tr>\n",
              "    <tr>\n",
              "      <th>49</th>\n",
              "      <td>2020-11-22</td>\n",
              "      <td>07:30</td>\n",
              "      <td>79,5</td>\n",
              "    </tr>\n",
              "    <tr>\n",
              "      <th>50</th>\n",
              "      <td>2020-11-29</td>\n",
              "      <td>07:40</td>\n",
              "      <td>79,2</td>\n",
              "    </tr>\n",
              "  </tbody>\n",
              "</table>\n",
              "<p>87 rows × 3 columns</p>\n",
              "</div>\n",
              "    <div class=\"colab-df-buttons\">\n",
              "\n",
              "  <div class=\"colab-df-container\">\n",
              "    <button class=\"colab-df-convert\" onclick=\"convertToInteractive('df-ba0fd82b-efeb-4fb5-9bf5-b7af99f972fe')\"\n",
              "            title=\"Convert this dataframe to an interactive table.\"\n",
              "            style=\"display:none;\">\n",
              "\n",
              "  <svg xmlns=\"http://www.w3.org/2000/svg\" height=\"24px\" viewBox=\"0 -960 960 960\">\n",
              "    <path d=\"M120-120v-720h720v720H120Zm60-500h600v-160H180v160Zm220 220h160v-160H400v160Zm0 220h160v-160H400v160ZM180-400h160v-160H180v160Zm440 0h160v-160H620v160ZM180-180h160v-160H180v160Zm440 0h160v-160H620v160Z\"/>\n",
              "  </svg>\n",
              "    </button>\n",
              "\n",
              "  <style>\n",
              "    .colab-df-container {\n",
              "      display:flex;\n",
              "      gap: 12px;\n",
              "    }\n",
              "\n",
              "    .colab-df-convert {\n",
              "      background-color: #E8F0FE;\n",
              "      border: none;\n",
              "      border-radius: 50%;\n",
              "      cursor: pointer;\n",
              "      display: none;\n",
              "      fill: #1967D2;\n",
              "      height: 32px;\n",
              "      padding: 0 0 0 0;\n",
              "      width: 32px;\n",
              "    }\n",
              "\n",
              "    .colab-df-convert:hover {\n",
              "      background-color: #E2EBFA;\n",
              "      box-shadow: 0px 1px 2px rgba(60, 64, 67, 0.3), 0px 1px 3px 1px rgba(60, 64, 67, 0.15);\n",
              "      fill: #174EA6;\n",
              "    }\n",
              "\n",
              "    .colab-df-buttons div {\n",
              "      margin-bottom: 4px;\n",
              "    }\n",
              "\n",
              "    [theme=dark] .colab-df-convert {\n",
              "      background-color: #3B4455;\n",
              "      fill: #D2E3FC;\n",
              "    }\n",
              "\n",
              "    [theme=dark] .colab-df-convert:hover {\n",
              "      background-color: #434B5C;\n",
              "      box-shadow: 0px 1px 3px 1px rgba(0, 0, 0, 0.15);\n",
              "      filter: drop-shadow(0px 1px 2px rgba(0, 0, 0, 0.3));\n",
              "      fill: #FFFFFF;\n",
              "    }\n",
              "  </style>\n",
              "\n",
              "    <script>\n",
              "      const buttonEl =\n",
              "        document.querySelector('#df-ba0fd82b-efeb-4fb5-9bf5-b7af99f972fe button.colab-df-convert');\n",
              "      buttonEl.style.display =\n",
              "        google.colab.kernel.accessAllowed ? 'block' : 'none';\n",
              "\n",
              "      async function convertToInteractive(key) {\n",
              "        const element = document.querySelector('#df-ba0fd82b-efeb-4fb5-9bf5-b7af99f972fe');\n",
              "        const dataTable =\n",
              "          await google.colab.kernel.invokeFunction('convertToInteractive',\n",
              "                                                    [key], {});\n",
              "        if (!dataTable) return;\n",
              "\n",
              "        const docLinkHtml = 'Like what you see? Visit the ' +\n",
              "          '<a target=\"_blank\" href=https://colab.research.google.com/notebooks/data_table.ipynb>data table notebook</a>'\n",
              "          + ' to learn more about interactive tables.';\n",
              "        element.innerHTML = '';\n",
              "        dataTable['output_type'] = 'display_data';\n",
              "        await google.colab.output.renderOutput(dataTable, element);\n",
              "        const docLink = document.createElement('div');\n",
              "        docLink.innerHTML = docLinkHtml;\n",
              "        element.appendChild(docLink);\n",
              "      }\n",
              "    </script>\n",
              "  </div>\n",
              "\n",
              "\n",
              "<div id=\"df-c5e8d4f0-8124-439c-af43-b9da92fa85aa\">\n",
              "  <button class=\"colab-df-quickchart\" onclick=\"quickchart('df-c5e8d4f0-8124-439c-af43-b9da92fa85aa')\"\n",
              "            title=\"Suggest charts\"\n",
              "            style=\"display:none;\">\n",
              "\n",
              "<svg xmlns=\"http://www.w3.org/2000/svg\" height=\"24px\"viewBox=\"0 0 24 24\"\n",
              "     width=\"24px\">\n",
              "    <g>\n",
              "        <path d=\"M19 3H5c-1.1 0-2 .9-2 2v14c0 1.1.9 2 2 2h14c1.1 0 2-.9 2-2V5c0-1.1-.9-2-2-2zM9 17H7v-7h2v7zm4 0h-2V7h2v10zm4 0h-2v-4h2v4z\"/>\n",
              "    </g>\n",
              "</svg>\n",
              "  </button>\n",
              "\n",
              "<style>\n",
              "  .colab-df-quickchart {\n",
              "      --bg-color: #E8F0FE;\n",
              "      --fill-color: #1967D2;\n",
              "      --hover-bg-color: #E2EBFA;\n",
              "      --hover-fill-color: #174EA6;\n",
              "      --disabled-fill-color: #AAA;\n",
              "      --disabled-bg-color: #DDD;\n",
              "  }\n",
              "\n",
              "  [theme=dark] .colab-df-quickchart {\n",
              "      --bg-color: #3B4455;\n",
              "      --fill-color: #D2E3FC;\n",
              "      --hover-bg-color: #434B5C;\n",
              "      --hover-fill-color: #FFFFFF;\n",
              "      --disabled-bg-color: #3B4455;\n",
              "      --disabled-fill-color: #666;\n",
              "  }\n",
              "\n",
              "  .colab-df-quickchart {\n",
              "    background-color: var(--bg-color);\n",
              "    border: none;\n",
              "    border-radius: 50%;\n",
              "    cursor: pointer;\n",
              "    display: none;\n",
              "    fill: var(--fill-color);\n",
              "    height: 32px;\n",
              "    padding: 0;\n",
              "    width: 32px;\n",
              "  }\n",
              "\n",
              "  .colab-df-quickchart:hover {\n",
              "    background-color: var(--hover-bg-color);\n",
              "    box-shadow: 0 1px 2px rgba(60, 64, 67, 0.3), 0 1px 3px 1px rgba(60, 64, 67, 0.15);\n",
              "    fill: var(--button-hover-fill-color);\n",
              "  }\n",
              "\n",
              "  .colab-df-quickchart-complete:disabled,\n",
              "  .colab-df-quickchart-complete:disabled:hover {\n",
              "    background-color: var(--disabled-bg-color);\n",
              "    fill: var(--disabled-fill-color);\n",
              "    box-shadow: none;\n",
              "  }\n",
              "\n",
              "  .colab-df-spinner {\n",
              "    border: 2px solid var(--fill-color);\n",
              "    border-color: transparent;\n",
              "    border-bottom-color: var(--fill-color);\n",
              "    animation:\n",
              "      spin 1s steps(1) infinite;\n",
              "  }\n",
              "\n",
              "  @keyframes spin {\n",
              "    0% {\n",
              "      border-color: transparent;\n",
              "      border-bottom-color: var(--fill-color);\n",
              "      border-left-color: var(--fill-color);\n",
              "    }\n",
              "    20% {\n",
              "      border-color: transparent;\n",
              "      border-left-color: var(--fill-color);\n",
              "      border-top-color: var(--fill-color);\n",
              "    }\n",
              "    30% {\n",
              "      border-color: transparent;\n",
              "      border-left-color: var(--fill-color);\n",
              "      border-top-color: var(--fill-color);\n",
              "      border-right-color: var(--fill-color);\n",
              "    }\n",
              "    40% {\n",
              "      border-color: transparent;\n",
              "      border-right-color: var(--fill-color);\n",
              "      border-top-color: var(--fill-color);\n",
              "    }\n",
              "    60% {\n",
              "      border-color: transparent;\n",
              "      border-right-color: var(--fill-color);\n",
              "    }\n",
              "    80% {\n",
              "      border-color: transparent;\n",
              "      border-right-color: var(--fill-color);\n",
              "      border-bottom-color: var(--fill-color);\n",
              "    }\n",
              "    90% {\n",
              "      border-color: transparent;\n",
              "      border-bottom-color: var(--fill-color);\n",
              "    }\n",
              "  }\n",
              "</style>\n",
              "\n",
              "  <script>\n",
              "    async function quickchart(key) {\n",
              "      const quickchartButtonEl =\n",
              "        document.querySelector('#' + key + ' button');\n",
              "      quickchartButtonEl.disabled = true;  // To prevent multiple clicks.\n",
              "      quickchartButtonEl.classList.add('colab-df-spinner');\n",
              "      try {\n",
              "        const charts = await google.colab.kernel.invokeFunction(\n",
              "            'suggestCharts', [key], {});\n",
              "      } catch (error) {\n",
              "        console.error('Error during call to suggestCharts:', error);\n",
              "      }\n",
              "      quickchartButtonEl.classList.remove('colab-df-spinner');\n",
              "      quickchartButtonEl.classList.add('colab-df-quickchart-complete');\n",
              "    }\n",
              "    (() => {\n",
              "      let quickchartButtonEl =\n",
              "        document.querySelector('#df-c5e8d4f0-8124-439c-af43-b9da92fa85aa button');\n",
              "      quickchartButtonEl.style.display =\n",
              "        google.colab.kernel.accessAllowed ? 'block' : 'none';\n",
              "    })();\n",
              "  </script>\n",
              "</div>\n",
              "    </div>\n",
              "  </div>\n"
            ],
            "application/vnd.google.colaboratory.intrinsic+json": {
              "type": "dataframe",
              "variable_name": "df_google_sheets",
              "repr_error": "0"
            }
          },
          "metadata": {},
          "execution_count": 222
        }
      ]
    },
    {
      "cell_type": "code",
      "source": [
        "print(f'Number of entries: {len(df_google_sheets)}')\n",
        "print(f'Date of first entry: {df_google_sheets[\"Date\"].iloc[0]}')\n",
        "print(f'Date of last entry: {df_google_sheets[\"Date\"].iloc[-1]}')"
      ],
      "metadata": {
        "colab": {
          "base_uri": "https://localhost:8080/"
        },
        "id": "vLGvjT5odQ8g",
        "outputId": "ffef4da6-c2da-412d-daaa-4bc0029aea2e"
      },
      "execution_count": 146,
      "outputs": [
        {
          "output_type": "stream",
          "name": "stdout",
          "text": [
            "Number of entries: 87\n",
            "Date of first entry: 2016-01-03\n",
            "Date of last entry: 2020-11-29\n"
          ]
        }
      ]
    },
    {
      "cell_type": "markdown",
      "source": [
        "**Garmin Connect**\n",
        "\n"
      ],
      "metadata": {
        "id": "p59P79JT39z7"
      }
    },
    {
      "cell_type": "code",
      "source": [
        "garmin_connect_masa_ciala = config['garmin_connect_masa_ciala']\n",
        "file_paths = glob.glob(garmin_connect_masa_ciala)\n",
        "\n",
        "dfs = []\n",
        "for path in file_paths:\n",
        "    df = pd.read_csv(path)\n",
        "    dfs.append(df)\n",
        "\n",
        "df = pd.concat(dfs, ignore_index=True)\n",
        "df = df.iloc[:, :2]"
      ],
      "metadata": {
        "id": "VH44cFUVx625"
      },
      "execution_count": 147,
      "outputs": []
    },
    {
      "cell_type": "code",
      "source": [
        "data_values = df.values.tolist()\n",
        "merged_data = [data_values[i] + data_values[i+1] for i in range(0, len(data_values)-1)]\n",
        "df = pd.DataFrame(merged_data, columns=list(df.columns)*2)\n",
        "\n",
        "index = df.columns.tolist().index('Czas', 1)\n",
        "df.columns.values[index] = 'Czas2'\n",
        "df = df[~df['Czas'].str.contains(':')]\n",
        "\n",
        "df = df.iloc[:, [0, 2, 3]]"
      ],
      "metadata": {
        "id": "A7Mw9QtUPF5_"
      },
      "execution_count": 148,
      "outputs": []
    },
    {
      "cell_type": "code",
      "source": [
        "def replace_month(date_str):\n",
        "    months_pl_to_en = {\n",
        "        'Sty': 'Jan', 'Lut': 'Feb', 'Mar': 'Mar', 'Kwi': 'Apr',\n",
        "        'Maj': 'May', 'Cze': 'Jun', 'Lip': 'Jul', 'Sie': 'Aug',\n",
        "        'Wrz': 'Sep', 'Paź': 'Oct', 'Lis': 'Nov', 'Gru': 'Dec'\n",
        "    }\n",
        "    for pl, en in months_pl_to_en.items():\n",
        "        date_str = date_str.replace(pl, en)\n",
        "    return date_str.strip()\n",
        "\n",
        "df_copy = df.copy()\n",
        "df_copy.loc[:, 'Czas'] = df_copy['Czas'].apply(replace_month)\n",
        "df_copy.loc[:, 'Czas'] = pd.to_datetime(df_copy['Czas'], format=\"%d %b %Y\").dt.strftime('%Y-%m-%d')\n",
        "df = df_copy"
      ],
      "metadata": {
        "id": "Vq34eAIv0TgW"
      },
      "execution_count": 149,
      "outputs": []
    },
    {
      "cell_type": "code",
      "source": [
        "df = df.rename(columns={'Czas': 'Date', 'Czas2' : 'Time', 'Ciężar': 'Weight'})\n",
        "df = df.reindex(columns=['Date', 'Time', 'Weight'])\n",
        "df['Weight'] = df['Weight'].str.replace(' kg', '').astype(float)"
      ],
      "metadata": {
        "id": "j2I8wyQgHWlQ"
      },
      "execution_count": 150,
      "outputs": []
    },
    {
      "cell_type": "code",
      "source": [
        "df = df.dropna(how='all')\n",
        "duplicated_rows = df.duplicated(keep=False)\n",
        "\n",
        "if duplicated_rows.sum() > 0:\n",
        "    print(f\"Found {duplicated_rows.sum()} duplicated rows.\")\n",
        "    duplicated_sorted = df[duplicated_rows].sort_values(by='Date')\n",
        "    print(duplicated_sorted)\n",
        "    df = df.drop_duplicates()\n",
        "    print(f\"Removed duplicates.\")"
      ],
      "metadata": {
        "id": "dT9xD0GjyYOC",
        "colab": {
          "base_uri": "https://localhost:8080/"
        },
        "outputId": "0d50c8b3-b013-4d99-c50e-0b9aa4dadcfe"
      },
      "execution_count": 151,
      "outputs": [
        {
          "output_type": "stream",
          "name": "stdout",
          "text": [
            "Found 12 duplicated rows.\n",
            "           Date   Time  Weight\n",
            "732  2024-02-05  06:55    85.2\n",
            "766  2024-02-05  06:55    85.2\n",
            "730  2024-02-06  06:55    84.7\n",
            "764  2024-02-06  06:55    84.7\n",
            "728  2024-02-12  06:35    84.6\n",
            "762  2024-02-12  06:35    84.6\n",
            "726  2024-02-13  06:45    84.6\n",
            "760  2024-02-13  06:45    84.6\n",
            "724  2024-02-16  07:35    85.7\n",
            "758  2024-02-16  07:35    85.7\n",
            "722  2024-02-19  07:10    84.0\n",
            "756  2024-02-19  07:10    84.0\n",
            "Removed duplicates.\n"
          ]
        }
      ]
    },
    {
      "cell_type": "code",
      "source": [
        "df_garmin_connect = df.sort_values(by=['Date', 'Time'], ascending=True)"
      ],
      "metadata": {
        "id": "UYY8PuTzTr5v"
      },
      "execution_count": 152,
      "outputs": []
    },
    {
      "cell_type": "code",
      "source": [
        "print(f'Number of entries: {len(df_garmin_connect)}')\n",
        "print(f'Date of first entry: {df_garmin_connect[\"Date\"].iloc[0]}')\n",
        "print(f'Date of last entry: {df_garmin_connect[\"Date\"].iloc[-1]}')"
      ],
      "metadata": {
        "id": "NoYNQb3IkYJz",
        "colab": {
          "base_uri": "https://localhost:8080/"
        },
        "outputId": "e30b4d83-2956-4173-f831-c7adba2abfee"
      },
      "execution_count": 153,
      "outputs": [
        {
          "output_type": "stream",
          "name": "stdout",
          "text": [
            "Number of entries: 378\n",
            "Date of first entry: 2020-12-06\n",
            "Date of last entry: 2024-03-01\n"
          ]
        }
      ]
    },
    {
      "cell_type": "markdown",
      "source": [
        "**Data Consalidation**"
      ],
      "metadata": {
        "id": "b0bs8kyZvMOL"
      }
    },
    {
      "cell_type": "code",
      "source": [
        "df_merged = pd.concat([df_google_sheets, df_garmin_connect], ignore_index=True)"
      ],
      "metadata": {
        "id": "BMYvkvCHsVFN"
      },
      "execution_count": 154,
      "outputs": []
    },
    {
      "cell_type": "code",
      "source": [
        "df_merged = df_merged.dropna(how='all')\n",
        "duplicated_rows = df_merged.duplicated(keep=False)\n",
        "\n",
        "if duplicated_rows.sum() > 0:\n",
        "    print(f\"Found {duplicated_rows.sum()} duplicated rows.\")\n",
        "    duplicated_sorted = df[duplicated_rows].sort_values(by='Date')\n",
        "    print(duplicated_sorted)\n",
        "    df = df.drop_duplicates()\n",
        "    print(f\"Removed duplicates.\")"
      ],
      "metadata": {
        "id": "yq3fLZIiUMur"
      },
      "execution_count": 155,
      "outputs": []
    },
    {
      "cell_type": "code",
      "source": [
        "print(f'Number of entries: {len(df_merged)}')\n",
        "print(f'Date of first entry: {df_merged[\"Date\"].iloc[0]}')\n",
        "print(f'Date of last entry: {df_merged[\"Date\"].iloc[-1]}')"
      ],
      "metadata": {
        "colab": {
          "base_uri": "https://localhost:8080/"
        },
        "id": "_HO8pDeSxY1Q",
        "outputId": "526a0c16-d4fa-4e7a-e7d0-acdf4b39209b"
      },
      "execution_count": 156,
      "outputs": [
        {
          "output_type": "stream",
          "name": "stdout",
          "text": [
            "Number of entries: 465\n",
            "Date of first entry: 2016-01-03\n",
            "Date of last entry: 2024-03-01\n"
          ]
        }
      ]
    },
    {
      "cell_type": "code",
      "source": [
        "# Export the merged dataframe to the weight.csv file\n",
        "df_merged.to_csv('/content/drive/MyDrive/Colab Notebooks/Tableau/Outputs/weight.csv', index=False)"
      ],
      "metadata": {
        "id": "BqCKTHVMipPP"
      },
      "execution_count": 157,
      "outputs": []
    }
  ]
}