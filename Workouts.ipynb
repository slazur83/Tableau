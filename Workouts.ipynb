{
  "nbformat": 4,
  "nbformat_minor": 0,
  "metadata": {
    "colab": {
      "provenance": [],
      "mount_file_id": "https://github.com/slazur83/Tableau/blob/main/Workouts.ipynb",
      "authorship_tag": "ABX9TyMHO34016PLlVwXwNfUEZvC"
    },
    "kernelspec": {
      "name": "python3",
      "display_name": "Python 3"
    },
    "language_info": {
      "name": "python"
    }
  },
  "cells": [
    {
      "cell_type": "code",
      "execution_count": null,
      "metadata": {
        "id": "9fmMEbLi4tU2"
      },
      "outputs": [],
      "source": [
        "import os\n",
        "import pandas as pd\n",
        "import json\n",
        "\n",
        "folder_path = \"/content/drive/MyDrive/Dane z aplikacji/Endomondo/Workouts\"\n",
        "\n",
        "dfs = []\n",
        "\n",
        "files = [f for f in os.listdir(folder_path) if f.endswith(\".json\")]\n",
        "\n",
        "if files:\n",
        "    for file_name in files:\n",
        "        file_path = os.path.join(folder_path, file_name)\n",
        "\n",
        "        with open(file_path, 'r') as file:\n",
        "            try:\n",
        "                data = json.load(file)\n",
        "                if isinstance(data, list) and len(data) > 0:\n",
        "                    sport = 'Running' if data[0].get('sport') == 'RUNNING' else data[0].get('sport')\n",
        "                    if sport == 'Running':\n",
        "                        source = data[1].get('source')\n",
        "                        source = source.replace(\"INPUT_MANUAL\", \"Endomondo (Manual)\").replace(\"TRACK_MOBILE\", \"Endomondo (GPS)\")\n",
        "\n",
        "                        start_time = pd.to_datetime(data[3].get('start_time'))\n",
        "                        end_time = pd.to_datetime(data[4].get('end_time'))\n",
        "                        speed_avg_kmh = round(float(data[8].get('speed_avg_kmh')), 2) if data[8].get('speed_avg_kmh') is not None else None\n",
        "                        duration = str(data[5].get('duration_s')).split('.')[0] if data[5].get('duration_s') is not None else None\n",
        "                        distance = round(float(data[6].get('distance_km')), 2) if duration is not None else None\n",
        "\n",
        "                        dfs.append({\n",
        "                            'sport': sport,\n",
        "                            'source': source,\n",
        "                            'date': start_time.date(),\n",
        "                            'start_time': start_time.time(),\n",
        "                            'end_time': end_time.time(),\n",
        "                            'duration_s': duration,\n",
        "                            'distance_km': distance,\n",
        "                            'speed_avg_kmh': speed_avg_kmh\n",
        "                        })\n",
        "\n",
        "            except Exception as e:\n",
        "                print(f\"Error processing JSON file {file_name}: {e}\")\n",
        "\n",
        "    df1 = pd.DataFrame(dfs).sort_values(by='date').reset_index(drop=True)\n",
        "    display(df1)\n",
        "\n",
        "else:\n",
        "    print(\"No JSON files found in the specified folder.\")\n"
      ]
    },
    {
      "cell_type": "code",
      "source": [
        "import pandas as pd\n",
        "from datetime import datetime\n",
        "from dateutil import parser\n",
        "\n",
        "file_path = \"/content/drive/MyDrive/Dane z aplikacji/MapMyRun/user184238914_workout_history.csv\"\n",
        "\n",
        "df = pd.read_csv(file_path, header=None, skip_blank_lines=False)\n",
        "\n",
        "df2 = df[df[2] == 'Run'].copy()\n",
        "\n",
        "df2.rename(columns={1: 'date', 2: 'sport', 4: 'distance_km', 5: 'duration_s', 8: 'speed_avg_kmh', 13: 'source', 14:'url'}, inplace=True)\n",
        "df2['sport'] = df2['sport'].apply(lambda x: 'Running' if x == 'Run' else x)\n",
        "df2['source'] = 'Map My Run app'\n",
        "df2.drop(columns=[0, 3, 6, 7, 9, 10, 11, 12], inplace=True)\n",
        "\n",
        "df2['date'] = df2['date'].apply(lambda x: parser.parse(x).strftime('%Y-%m-%d'))\n",
        "df2['distance_km'] = df2['distance_km'].astype(float).round(2)\n",
        "df2['speed_avg_kmh'] = df2['speed_avg_kmh'].astype(float).round(2)\n",
        "\n",
        "df2 = df2[['sport', 'source', 'date', 'duration_s', 'distance_km', 'speed_avg_kmh']]\n",
        "\n",
        "display(df2)"
      ],
      "metadata": {
        "id": "7JpEor-nMDR8"
      },
      "execution_count": null,
      "outputs": []
    },
    {
      "cell_type": "code",
      "source": [
        "df2['date'] = pd.to_datetime(df2['date'])\n",
        "\n",
        "# Utwórz kolumnę z rokiem i miesiącem\n",
        "df2['year_month'] = df2['date'].dt.to_period('M')\n",
        "\n",
        "# Użyj funkcji groupby i sum, aby uzyskać łączną liczbę distance_km dla każdego roku-miesiąca tylko dla df2\n",
        "df3 = df2.groupby('year_month')['distance_km'].sum().reset_index()\n",
        "df3['year_month'] = df3['year_month'].dt.to_timestamp().dt.strftime('%Y-%m')\n",
        "display(df3)"
      ],
      "metadata": {
        "id": "Ug_7L92TfIcM"
      },
      "execution_count": null,
      "outputs": []
    },
    {
      "cell_type": "code",
      "source": [
        "import pandas as pd\n",
        "import numpy as np\n",
        "\n",
        "google_sheets_link = 'https://docs.google.com/spreadsheets/d/1sKQRBWY5xvY-erhFxXo0bC0pTpZT6QUUMx1fjLngGk0/edit?usp=drive_link'\n",
        "\n",
        "document_key = google_sheets_link.split('/')[-2]\n",
        "\n",
        "worksheet_link = f'https://docs.google.com/spreadsheets/d/{document_key}/export?format=csv'\n",
        "\n",
        "df4 = pd.read_csv(worksheet_link, header=1)\n",
        "df4 = df4.drop(columns=['Unnamed: 0'])\n",
        "df4 = df4.iloc[:, :-1]\n",
        "df4 = df4.iloc[:-1,:]\n",
        "df4.replace('-', np.nan, inplace=True)\n",
        "display(df4)\n"
      ],
      "metadata": {
        "id": "g1EZaV7lglp9"
      },
      "execution_count": null,
      "outputs": []
    },
    {
      "cell_type": "code",
      "source": [
        "df5 = pd.DataFrame(columns=['year_month', 'distance_km'])\n",
        "\n",
        "for index, row in df4.iterrows():\n",
        "    for col in df4.columns[1:]:\n",
        "        year_month = f'{int(col)}-{index + 1:02d}'\n",
        "        distance_km = row[col]\n",
        "        df5 = pd.concat([df5, pd.DataFrame({'year_month': [year_month], 'distance_km': [distance_km]})], ignore_index=True)\n",
        "\n",
        "df5 = df5.sort_values(by='year_month')\n",
        "df5 = df5[df5['year_month'].apply(lambda x: int(x.split('-')[1])) != 13]\n",
        "\n",
        "df5['distance_km'] = df5['distance_km'].str.replace(',', '.').astype(float)\n",
        "df5['distance_km'] = pd.to_numeric(df5['distance_km'])\n",
        "\n",
        "display(df5)"
      ],
      "metadata": {
        "id": "b456_YZuPg4U"
      },
      "execution_count": null,
      "outputs": []
    },
    {
      "cell_type": "code",
      "source": [
        "import pandas as pd\n",
        "\n",
        "df3 = df3.rename(columns={'distance_km': 'df3_distance_km'})\n",
        "df5 = df5.rename(columns={'distance_km': 'df5_distance_km'})\n",
        "\n",
        "df6 = pd.concat([df3.set_index('year_month'), df5.set_index('year_month')], axis=1, join='outer')\n",
        "\n",
        "df6['absolute_difference'] = abs(df6['df3_distance_km'] - df6['df5_distance_km'])\n",
        "\n",
        "print(df6)"
      ],
      "metadata": {
        "id": "hI-PrVi1Jxgc"
      },
      "execution_count": null,
      "outputs": []
    },
    {
      "cell_type": "code",
      "source": [
        "filtered_df = df6[df6['absolute_difference'] >= 0.02].copy()\n",
        "print(filtered_df)"
      ],
      "metadata": {
        "id": "DUxQRl2oi-rK"
      },
      "execution_count": null,
      "outputs": []
    }
  ]
}